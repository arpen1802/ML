{
 "cells": [
  {
   "cell_type": "markdown",
   "metadata": {},
   "source": [
    "HINT: Google anything you don't understand but never copy a code. Write it yourself."
   ]
  },
  {
   "cell_type": "markdown",
   "metadata": {},
   "source": [
    "### 1. Write a code that takes a list, finds the prime numbers in it and prints in reverse sequence."
   ]
  },
  {
   "cell_type": "code",
   "execution_count": 8,
   "metadata": {},
   "outputs": [
    {
     "name": "stdout",
     "output_type": "stream",
     "text": [
      "97\n",
      "2\n",
      "19\n",
      "17\n"
     ]
    }
   ],
   "source": [
    "list_prime = [49, 17, 19, 1, 2, 34, 97, 21]\n",
    "new_list = []\n",
    "def primeCheck(number):\n",
    "    if number > 1:\n",
    "        for i in range(2, number):\n",
    "            if (number % i) == 0:\n",
    "                return False     \n",
    "                break\n",
    "        else:\n",
    "            return True\n",
    "    else:\n",
    "        return False\n",
    "\n",
    "# if the if condition in for loop does not break, then its proceeds to else statement returning True:\n",
    "for i in list_prime[::-1]:\n",
    "    if(primeCheck(i)):\n",
    "        print(i)\n"
   ]
  },
  {
   "cell_type": "markdown",
   "metadata": {},
   "source": [
    "### 2. Write a function, that takes a list and a number, let's say n, and checks whether the n-th element of the list is even. If yes, prints \"n is even\", otherwise prints \"n is odd\" (replace n with the number). Use this function in an example."
   ]
  },
  {
   "cell_type": "code",
   "execution_count": 15,
   "metadata": {},
   "outputs": [
    {
     "name": "stdout",
     "output_type": "stream",
     "text": [
      "The number is odd.\n"
     ]
    }
   ],
   "source": [
    "def check_even_or_odd(l, n):\n",
    "    if(l[n]==0):\n",
    "        return \"The number is 0.\"\n",
    "    elif(l[n]%2==0):\n",
    "        return \"The number is even.\"\n",
    "    else:\n",
    "        return \"The number is odd.\"\n",
    "        \n",
    "            \n",
    "    \n",
    "#This example assumes that by saying the 'n-th element', it takes into consideration 0-th element also.Otherwise we will use n-1\n",
    "# insuring that n is bigger then 0.\n",
    "list_even_odd = [22, 33, 44, 55, 66]\n",
    "n = 1\n",
    "print(check_even_or_odd(list_even_odd, n))"
   ]
  },
  {
   "cell_type": "markdown",
   "metadata": {},
   "source": [
    "### 3. Write a function that returns Euclidian distance between given two vectors. The coordinates of the vectors are given in python lists. "
   ]
  },
  {
   "cell_type": "code",
   "execution_count": 115,
   "metadata": {
    "scrolled": true
   },
   "outputs": [
    {
     "name": "stdout",
     "output_type": "stream",
     "text": [
      "11.045361017187261\n"
     ]
    }
   ],
   "source": [
    "#function does not consider the vectors with different lenghts\n",
    "def Euc_distance(a,b):\n",
    "    sum = 0\n",
    "    for i, k in zip(a, b):\n",
    "        sum = sum+(k-i)**2\n",
    "    return sum**(1/2)\n",
    "    \n",
    "    \n",
    "p = [0,4, -1, -8]\n",
    "q = [3, 6, 9, -5]\n",
    "print(Euc_distance(p,q))"
   ]
  },
  {
   "cell_type": "markdown",
   "metadata": {},
   "source": [
    "### 4. Write a function that for the given number returns a list of its divisors. "
   ]
  },
  {
   "cell_type": "code",
   "execution_count": 106,
   "metadata": {},
   "outputs": [
    {
     "name": "stdout",
     "output_type": "stream",
     "text": [
      "7\n",
      "[1, 7]\n"
     ]
    }
   ],
   "source": [
    "def divisors(a):\n",
    "    divisors = []\n",
    "    for i in range(1,int(a**1/2)+1):\n",
    "        if(a%i==0):\n",
    "            divisors.append(i)\n",
    "    divisors.append(a)\n",
    "    return divisors\n",
    "    \n",
    "            \n",
    "num = int(input())\n",
    "print(divisors(num))"
   ]
  },
  {
   "cell_type": "markdown",
   "metadata": {},
   "source": [
    "### 5. Given a dictionary named \"d\" write a code to calculate the mean of the list stored in the \"white_list\" key in the dict and median of the list stored under the \"black_list\" key."
   ]
  },
  {
   "cell_type": "code",
   "execution_count": 96,
   "metadata": {},
   "outputs": [],
   "source": [
    "a = {\"black_list\": [16, 75, 89, 22, 8, 10], \"white_list\": [44, 78, 9, 10, 2, 39, 101, 98, 45], \"green_smile\": \":)\"}"
   ]
  },
  {
   "cell_type": "code",
   "execution_count": 94,
   "metadata": {},
   "outputs": [],
   "source": [
    "def mean(a):\n",
    "    sum = 0\n",
    "    for i in a['white_list']:\n",
    "        sum = sum+i\n",
    "    return sum/len(a['white_list'])\n",
    "\n",
    "def median(a):\n",
    "    sorted_a = sorted(a['black_list'])\n",
    "    median_calc = 0\n",
    "    if(len(sorted_a)%2==0):\n",
    "        median_calc = (sorted_a[int(len(sorted_a)/2)]+sorted_a[int(len(sorted_a)/2)-1])/2\n",
    "    else:\n",
    "        median_calc =sorted_a[int(len(sorted_a)/2)]\n",
    "    return median_calc\n"
   ]
  },
  {
   "cell_type": "markdown",
   "metadata": {},
   "source": [
    "### 6. Create a tuple from calculated mean and median of the previous problem and store them in the same dictionary under the key \"green_tuple\"."
   ]
  },
  {
   "cell_type": "code",
   "execution_count": 97,
   "metadata": {},
   "outputs": [],
   "source": [
    "mean_median_tuple = (mean(a),median(a))\n",
    "a['green_smile'] = mean_median_tuple"
   ]
  },
  {
   "cell_type": "markdown",
   "metadata": {},
   "source": [
    "### 7. Write an algorithm to find the max number in the given list. Don't use python's max function. "
   ]
  },
  {
   "cell_type": "code",
   "execution_count": 99,
   "metadata": {},
   "outputs": [
    {
     "data": {
      "text/plain": [
       "77"
      ]
     },
     "execution_count": 99,
     "metadata": {},
     "output_type": "execute_result"
    }
   ],
   "source": [
    "def max_(a):\n",
    "    maximum=a[0]\n",
    "    for i in a:\n",
    "        if(i>=maximum):\n",
    "            maximum = i\n",
    "    return maximum\n",
    "some_list = [5,7,6,6,12,77]\n",
    "max_(some_list)"
   ]
  },
  {
   "cell_type": "markdown",
   "metadata": {},
   "source": [
    "### 8. Practice list slicing. "
   ]
  },
  {
   "cell_type": "code",
   "execution_count": 57,
   "metadata": {},
   "outputs": [],
   "source": [
    "a = [1,2,3,\"red\",\"wine\",4,5,[6,7,8],'white']"
   ]
  },
  {
   "cell_type": "code",
   "execution_count": 47,
   "metadata": {},
   "outputs": [
    {
     "name": "stdout",
     "output_type": "stream",
     "text": [
      "[1, 2, 3]\n"
     ]
    }
   ],
   "source": [
    "# Print its first 3 elements.\n",
    "\n",
    "print(a[:3])"
   ]
  },
  {
   "cell_type": "code",
   "execution_count": 48,
   "metadata": {},
   "outputs": [
    {
     "name": "stdout",
     "output_type": "stream",
     "text": [
      "white\n"
     ]
    }
   ],
   "source": [
    "# Print the last element.\n",
    "\n",
    "print(a[-1])"
   ]
  },
  {
   "cell_type": "code",
   "execution_count": 50,
   "metadata": {},
   "outputs": [
    {
     "name": "stdout",
     "output_type": "stream",
     "text": [
      "['red', 'wine', 4, 5, [6, 7, 8]]\n"
     ]
    }
   ],
   "source": [
    "# Print from 3rd to 7th elements (including 7th).\n",
    "\n",
    "print(a[3:8])"
   ]
  },
  {
   "cell_type": "code",
   "execution_count": 55,
   "metadata": {},
   "outputs": [
    {
     "name": "stdout",
     "output_type": "stream",
     "text": [
      "['white', [6, 7, 8], 5, 4, 'wine', 'red', 3, 2, 1]\n"
     ]
    }
   ],
   "source": [
    "# Reverse a list.\n",
    "\n",
    "print(a[::-1])"
   ]
  },
  {
   "cell_type": "code",
   "execution_count": 61,
   "metadata": {},
   "outputs": [
    {
     "name": "stdout",
     "output_type": "stream",
     "text": [
      "[4, 5, [6, 7, 8], 'white']\n"
     ]
    }
   ],
   "source": [
    "# Print last 4 elements.\n",
    "\n",
    "print(a[-4:])"
   ]
  },
  {
   "cell_type": "code",
   "execution_count": 63,
   "metadata": {},
   "outputs": [
    {
     "name": "stdout",
     "output_type": "stream",
     "text": [
      "['white', [6, 7, 8], 5, 4]\n"
     ]
    }
   ],
   "source": [
    "# Print last 4 elements in reverse order\n",
    "print(a[-4:][::-1])"
   ]
  },
  {
   "cell_type": "code",
   "execution_count": 68,
   "metadata": {},
   "outputs": [
    {
     "name": "stdout",
     "output_type": "stream",
     "text": [
      "[1, 'red', 5]\n"
     ]
    }
   ],
   "source": [
    "# Every third element\n",
    "\n",
    "print(a[0::3])"
   ]
  },
  {
   "cell_type": "code",
   "execution_count": 74,
   "metadata": {},
   "outputs": [
    {
     "name": "stdout",
     "output_type": "stream",
     "text": [
      "['red', 4, [6, 7, 8]]\n"
     ]
    }
   ],
   "source": [
    "# Every second element starting from 3rd and ending at 9th.\n",
    "\n",
    "print(a[3:10][0::2])\n"
   ]
  }
 ],
 "metadata": {
  "kernelspec": {
   "display_name": "Python 3",
   "language": "python",
   "name": "python3"
  },
  "language_info": {
   "codemirror_mode": {
    "name": "ipython",
    "version": 3
   },
   "file_extension": ".py",
   "mimetype": "text/x-python",
   "name": "python",
   "nbconvert_exporter": "python",
   "pygments_lexer": "ipython3",
   "version": "3.6.9"
  }
 },
 "nbformat": 4,
 "nbformat_minor": 2
}
