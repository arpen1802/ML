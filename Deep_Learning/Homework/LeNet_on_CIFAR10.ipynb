{
 "cells": [
  {
   "cell_type": "markdown",
   "metadata": {},
   "source": [
    "## Homework_0 CIFAR10 Classification \n",
    "\n",
    "* Load CIFAR10 dataset\n",
    "* Print and plot some statistics about counts and labels\n",
    "* Build your CNN (Do experiments, don't forget about Dropouts and Batch Normalization) with more than 80+ accuracy on tests\n",
    "* Implement LeNet and train on CIFAR-10 and visualize the results"
   ]
  },
  {
   "cell_type": "markdown",
   "metadata": {},
   "source": [
    "## LeNet 1998\n",
    "\n",
    "##### original paper: http://yann.lecun.com/exdb/publis/pdf/lecun-01a.pdf\n",
    "\n",
    "![image.png](../Images/lenet.png)\n",
    "\n",
    "1. Conv Layer -> filters = 6, kernel_size = (5,5), strides = (1,1),activation=\"tanh\"\n",
    "2. Max Pool Layer -> (2,2) filter size and (2,2 stride)\n",
    "3. Conv Layer -> filters = 16, kernel_size = (5,5), strides = (1,1),activation=\"tanh\"\n",
    "4. Max Pool Layer -> (2,2) filter size and (2,2 stride)\n",
    "5. FC -> 120 \n",
    "6. FC -> 84 \n",
    "7. FC -> 10 "
   ]
  }
 ],
 "metadata": {
  "kernelspec": {
   "display_name": "Python 3",
   "language": "python",
   "name": "python3"
  },
  "language_info": {
   "codemirror_mode": {
    "name": "ipython",
    "version": 3
   },
   "file_extension": ".py",
   "mimetype": "text/x-python",
   "name": "python",
   "nbconvert_exporter": "python",
   "pygments_lexer": "ipython3",
   "version": "3.6.9"
  }
 },
 "nbformat": 4,
 "nbformat_minor": 2
}
