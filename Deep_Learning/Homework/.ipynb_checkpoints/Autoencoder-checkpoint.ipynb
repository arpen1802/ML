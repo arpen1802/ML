{
 "cells": [
  {
   "cell_type": "markdown",
   "metadata": {},
   "source": [
    "_Use Keras or tf.keras to build the following models_"
   ]
  },
  {
   "cell_type": "markdown",
   "metadata": {},
   "source": [
    "    Build a simple autoencoder with single encoder and decoder layers (sigmoid or relu)\n",
    "    Train on MNIST dataset\n",
    "    Visualize reconstructions on test data"
   ]
  },
  {
   "cell_type": "markdown",
   "metadata": {},
   "source": [
    "# The most part of application, is created with the help of this article. https://blog.keras.io/building-autoencoders-in-keras.html "
   ]
  },
  {
   "cell_type": "code",
   "execution_count": 150,
   "metadata": {},
   "outputs": [],
   "source": [
    "import numpy as np\n",
    "import tensorflow as tf\n",
    "from tensorflow.keras import datasets, layers, models\n",
    "import matplotlib.pyplot as plt\n"
   ]
  },
  {
   "cell_type": "code",
   "execution_count": 151,
   "metadata": {},
   "outputs": [],
   "source": [
    "encoding_dim = 32\n",
    "input_img = tf.keras.Input(shape=(784,))\n",
    "encoded = tf.keras.layers.Dense(encoding_dim, activation='relu')(input_img)\n",
    "decoded = tf.keras.layers.Dense(784, activation='sigmoid')(encoded)\n",
    "autoencoder =  tf.keras.Model(input_img, decoded)"
   ]
  },
  {
   "cell_type": "code",
   "execution_count": 152,
   "metadata": {},
   "outputs": [],
   "source": [
    "encoder = tf.keras.Model(input_img, encoded)"
   ]
  },
  {
   "cell_type": "code",
   "execution_count": 153,
   "metadata": {},
   "outputs": [],
   "source": [
    "encoded_input = tf.keras.Input(shape=(encoding_dim,))\n",
    "decoder_layer = autoencoder.layers[-1]\n",
    "decoder = tf.keras.Model(encoded_input, decoder_layer(encoded_input))"
   ]
  },
  {
   "cell_type": "code",
   "execution_count": 154,
   "metadata": {},
   "outputs": [],
   "source": [
    "autoencoder.compile(optimizer='adam', loss='binary_crossentropy')\n"
   ]
  },
  {
   "cell_type": "code",
   "execution_count": 155,
   "metadata": {},
   "outputs": [],
   "source": [
    "(x_train, _), (x_test, _) = datasets.mnist.load_data()"
   ]
  },
  {
   "cell_type": "code",
   "execution_count": 156,
   "metadata": {},
   "outputs": [],
   "source": [
    "x_train = x_train.astype('float32') / 255.\n",
    "x_test = x_test.astype('float32') / 255.\n",
    "x_train = x_train.reshape((len(x_train), 784))\n",
    "x_test = x_test.reshape((len(x_test), 784))"
   ]
  },
  {
   "cell_type": "code",
   "execution_count": 157,
   "metadata": {
    "scrolled": true
   },
   "outputs": [
    {
     "name": "stdout",
     "output_type": "stream",
     "text": [
      "Train on 60000 samples, validate on 10000 samples\n",
      "Epoch 1/50\n",
      "60000/60000 [==============================] - 8s 125us/sample - loss: 0.2767 - val_loss: 0.1910\n",
      "Epoch 2/50\n",
      "60000/60000 [==============================] - 6s 106us/sample - loss: 0.1721 - val_loss: 0.1549\n",
      "Epoch 3/50\n",
      "60000/60000 [==============================] - 5s 91us/sample - loss: 0.1452 - val_loss: 0.1338\n",
      "Epoch 4/50\n",
      "60000/60000 [==============================] - 6s 98us/sample - loss: 0.1285 - val_loss: 0.1213\n",
      "Epoch 5/50\n",
      "60000/60000 [==============================] - 6s 102us/sample - loss: 0.1184 - val_loss: 0.1132\n",
      "Epoch 6/50\n",
      "60000/60000 [==============================] - 7s 111us/sample - loss: 0.1113 - val_loss: 0.1071\n",
      "Epoch 7/50\n",
      "60000/60000 [==============================] - 6s 104us/sample - loss: 0.1060 - val_loss: 0.1028\n",
      "Epoch 8/50\n",
      "60000/60000 [==============================] - 7s 108us/sample - loss: 0.1022 - val_loss: 0.0994\n",
      "Epoch 9/50\n",
      "60000/60000 [==============================] - 7s 109us/sample - loss: 0.0995 - val_loss: 0.0973\n",
      "Epoch 10/50\n",
      "60000/60000 [==============================] - 6s 107us/sample - loss: 0.0977 - val_loss: 0.0958\n",
      "Epoch 11/50\n",
      "60000/60000 [==============================] - 6s 100us/sample - loss: 0.0965 - val_loss: 0.0947\n",
      "Epoch 12/50\n",
      "60000/60000 [==============================] - 6s 105us/sample - loss: 0.0957 - val_loss: 0.0941\n",
      "Epoch 13/50\n",
      "60000/60000 [==============================] - 7s 120us/sample - loss: 0.0952 - val_loss: 0.0936\n",
      "Epoch 14/50\n",
      "60000/60000 [==============================] - 7s 112us/sample - loss: 0.0947 - val_loss: 0.0933\n",
      "Epoch 15/50\n",
      "60000/60000 [==============================] - 6s 106us/sample - loss: 0.0944 - val_loss: 0.0931\n",
      "Epoch 16/50\n",
      "60000/60000 [==============================] - 6s 102us/sample - loss: 0.0942 - val_loss: 0.0928\n",
      "Epoch 17/50\n",
      "60000/60000 [==============================] - 7s 112us/sample - loss: 0.0940 - val_loss: 0.0927\n",
      "Epoch 18/50\n",
      "60000/60000 [==============================] - 6s 107us/sample - loss: 0.0938 - val_loss: 0.0926\n",
      "Epoch 19/50\n",
      "60000/60000 [==============================] - 7s 111us/sample - loss: 0.0937 - val_loss: 0.0924\n",
      "Epoch 20/50\n",
      "60000/60000 [==============================] - 8s 130us/sample - loss: 0.0936 - val_loss: 0.0924\n",
      "Epoch 21/50\n",
      "60000/60000 [==============================] - 8s 130us/sample - loss: 0.0935 - val_loss: 0.0923\n",
      "Epoch 22/50\n",
      "60000/60000 [==============================] - 7s 118us/sample - loss: 0.0934 - val_loss: 0.0922\n",
      "Epoch 23/50\n",
      "60000/60000 [==============================] - 7s 120us/sample - loss: 0.0933 - val_loss: 0.0922\n",
      "Epoch 24/50\n",
      "60000/60000 [==============================] - 7s 118us/sample - loss: 0.0933 - val_loss: 0.0922\n",
      "Epoch 25/50\n",
      "60000/60000 [==============================] - 6s 107us/sample - loss: 0.0932 - val_loss: 0.0920\n",
      "Epoch 26/50\n",
      "60000/60000 [==============================] - 7s 123us/sample - loss: 0.0931 - val_loss: 0.0920\n",
      "Epoch 27/50\n",
      "60000/60000 [==============================] - 7s 111us/sample - loss: 0.0931 - val_loss: 0.0919\n",
      "Epoch 28/50\n",
      "60000/60000 [==============================] - 7s 112us/sample - loss: 0.0931 - val_loss: 0.0918\n",
      "Epoch 29/50\n",
      "60000/60000 [==============================] - 7s 124us/sample - loss: 0.0930 - val_loss: 0.0918\n",
      "Epoch 30/50\n",
      "60000/60000 [==============================] - 7s 114us/sample - loss: 0.0930 - val_loss: 0.0919\n",
      "Epoch 31/50\n",
      "60000/60000 [==============================] - 6s 106us/sample - loss: 0.0930 - val_loss: 0.0918\n",
      "Epoch 32/50\n",
      "60000/60000 [==============================] - 7s 122us/sample - loss: 0.0929 - val_loss: 0.0918\n",
      "Epoch 33/50\n",
      "60000/60000 [==============================] - 7s 117us/sample - loss: 0.0929 - val_loss: 0.0918\n",
      "Epoch 34/50\n",
      "60000/60000 [==============================] - 7s 117us/sample - loss: 0.0929 - val_loss: 0.0917\n",
      "Epoch 35/50\n",
      "60000/60000 [==============================] - 7s 110us/sample - loss: 0.0928 - val_loss: 0.0918\n",
      "Epoch 36/50\n",
      "60000/60000 [==============================] - 7s 117us/sample - loss: 0.0928 - val_loss: 0.0917\n",
      "Epoch 37/50\n",
      "60000/60000 [==============================] - 8s 129us/sample - loss: 0.0928 - val_loss: 0.0917\n",
      "Epoch 38/50\n",
      "60000/60000 [==============================] - 7s 119us/sample - loss: 0.0928 - val_loss: 0.0917\n",
      "Epoch 39/50\n",
      "60000/60000 [==============================] - 9s 150us/sample - loss: 0.0928 - val_loss: 0.0916\n",
      "Epoch 40/50\n",
      "60000/60000 [==============================] - 8s 128us/sample - loss: 0.0928 - val_loss: 0.0916\n",
      "Epoch 41/50\n",
      "60000/60000 [==============================] - 6s 100us/sample - loss: 0.0927 - val_loss: 0.0916\n",
      "Epoch 42/50\n",
      "60000/60000 [==============================] - 7s 111us/sample - loss: 0.0927 - val_loss: 0.0916\n",
      "Epoch 43/50\n",
      "60000/60000 [==============================] - 7s 111us/sample - loss: 0.0927 - val_loss: 0.0917\n",
      "Epoch 44/50\n",
      "60000/60000 [==============================] - 6s 106us/sample - loss: 0.0927 - val_loss: 0.0917\n",
      "Epoch 45/50\n",
      "60000/60000 [==============================] - 7s 108us/sample - loss: 0.0927 - val_loss: 0.0915\n",
      "Epoch 46/50\n",
      "60000/60000 [==============================] - 7s 121us/sample - loss: 0.0927 - val_loss: 0.0915\n",
      "Epoch 47/50\n",
      "60000/60000 [==============================] - 8s 132us/sample - loss: 0.0927 - val_loss: 0.0916\n",
      "Epoch 48/50\n",
      "60000/60000 [==============================] - 7s 109us/sample - loss: 0.0927 - val_loss: 0.0916\n",
      "Epoch 49/50\n",
      "60000/60000 [==============================] - 8s 137us/sample - loss: 0.0927 - val_loss: 0.0916\n",
      "Epoch 50/50\n",
      "60000/60000 [==============================] - 8s 134us/sample - loss: 0.0926 - val_loss: 0.0915\n"
     ]
    },
    {
     "data": {
      "text/plain": [
       "<tensorflow.python.keras.callbacks.History at 0x7f28b343e150>"
      ]
     },
     "execution_count": 157,
     "metadata": {},
     "output_type": "execute_result"
    }
   ],
   "source": [
    "autoencoder.fit(x_train, x_train,\n",
    "                epochs=25,\n",
    "                batch_size=256,\n",
    "               validation_data=(x_test, x_test))"
   ]
  },
  {
   "cell_type": "markdown",
   "metadata": {},
   "source": [
    "## Final loss was 0.09"
   ]
  },
  {
   "cell_type": "code",
   "execution_count": 158,
   "metadata": {},
   "outputs": [],
   "source": [
    "encoded_imgs = encoder.predict(x_test)\n",
    "decoded_imgs = decoder.predict(encoded_imgs)"
   ]
  },
  {
   "cell_type": "code",
   "execution_count": 159,
   "metadata": {},
   "outputs": [
    {
     "data": {
      "image/png": "[encoded data removed]",
      "text/plain": [
       "<Figure size 1440x288 with 20 Axes>"
      ]
     },
     "metadata": {
      "needs_background": "light"
     },
     "output_type": "display_data"
    }
   ],
   "source": [
    "n = 10\n",
    "plt.figure(figsize=(20, 4))\n",
    "for i in range(n):\n",
    "    ax = plt.subplot(2, n, i + 1)\n",
    "    plt.imshow(x_test[i].reshape(28, 28))\n",
    "    plt.gray()\n",
    "    ax.get_xaxis().set_visible(False)\n",
    "    ax.get_yaxis().set_visible(False)\n",
    "    ax = plt.subplot(2, n, i + 1 + n)\n",
    "    plt.imshow(decoded_imgs[i].reshape(28, 28))\n",
    "    plt.gray()\n",
    "    ax.get_xaxis().set_visible(False)\n",
    "    ax.get_yaxis().set_visible(False)\n",
    "plt.show()"
   ]
  },
  {
   "cell_type": "markdown",
   "metadata": {},
   "source": [
    "    Add Gaussian noise to the original input and try over."
   ]
  },
  {
   "cell_type": "code",
   "execution_count": 160,
   "metadata": {},
   "outputs": [],
   "source": [
    "x_train_noisy = x_train +  np.random.normal(loc=0.0, scale=1.0, size=x_train.shape) \n",
    "x_test_noisy = x_test +  np.random.normal(loc=0.0, scale=1.0, size=x_test.shape) "
   ]
  },
  {
   "cell_type": "code",
   "execution_count": 161,
   "metadata": {},
   "outputs": [],
   "source": [
    "x_train_noisy = x_train_noisy.astype('float32') / 255.\n",
    "x_test_noisy = x_test_noisy.astype('float32') / 255."
   ]
  },
  {
   "cell_type": "code",
   "execution_count": 162,
   "metadata": {},
   "outputs": [
    {
     "name": "stdout",
     "output_type": "stream",
     "text": [
      "Train on 60000 samples, validate on 10000 samples\n",
      "Epoch 1/50\n",
      "60000/60000 [==============================] - 6s 101us/sample - loss: 0.2862 - val_loss: 0.2606\n",
      "Epoch 2/50\n",
      "60000/60000 [==============================] - 6s 106us/sample - loss: 0.2607 - val_loss: 0.2603\n",
      "Epoch 3/50\n",
      "60000/60000 [==============================] - 7s 109us/sample - loss: 0.2604 - val_loss: 0.2600\n",
      "Epoch 4/50\n",
      "60000/60000 [==============================] - 6s 105us/sample - loss: 0.2600 - val_loss: 0.2595\n",
      "Epoch 5/50\n",
      "60000/60000 [==============================] - 6s 104us/sample - loss: 0.2596 - val_loss: 0.2590\n",
      "Epoch 6/50\n",
      "60000/60000 [==============================] - 7s 108us/sample - loss: 0.2590 - val_loss: 0.2583\n",
      "Epoch 7/50\n",
      "60000/60000 [==============================] - 9s 150us/sample - loss: 0.2582 - val_loss: 0.2574\n",
      "Epoch 8/50\n",
      "60000/60000 [==============================] - 6s 106us/sample - loss: 0.2571 - val_loss: 0.2562\n",
      "Epoch 9/50\n",
      "60000/60000 [==============================] - 6s 104us/sample - loss: 0.2557 - val_loss: 0.2545\n",
      "Epoch 10/50\n",
      "60000/60000 [==============================] - 7s 109us/sample - loss: 0.2538 - val_loss: 0.2523\n",
      "Epoch 11/50\n",
      "60000/60000 [==============================] - 6s 108us/sample - loss: 0.2513 - val_loss: 0.2494\n",
      "Epoch 12/50\n",
      "60000/60000 [==============================] - 6s 102us/sample - loss: 0.2481 - val_loss: 0.2459\n",
      "Epoch 13/50\n",
      "60000/60000 [==============================] - 6s 102us/sample - loss: 0.2444 - val_loss: 0.2419\n",
      "Epoch 14/50\n",
      "60000/60000 [==============================] - 7s 110us/sample - loss: 0.2403 - val_loss: 0.2377\n",
      "Epoch 15/50\n",
      "60000/60000 [==============================] - 7s 117us/sample - loss: 0.2361 - val_loss: 0.2333\n",
      "Epoch 16/50\n",
      "60000/60000 [==============================] - 7s 124us/sample - loss: 0.2318 - val_loss: 0.2289\n",
      "Epoch 17/50\n",
      "60000/60000 [==============================] - 8s 132us/sample - loss: 0.2274 - val_loss: 0.2244\n",
      "Epoch 18/50\n",
      "60000/60000 [==============================] - 6s 107us/sample - loss: 0.2229 - val_loss: 0.2200\n",
      "Epoch 19/50\n",
      "60000/60000 [==============================] - 7s 117us/sample - loss: 0.2186 - val_loss: 0.2156\n",
      "Epoch 20/50\n",
      "60000/60000 [==============================] - 7s 110us/sample - loss: 0.2145 - val_loss: 0.2118\n",
      "Epoch 21/50\n",
      "60000/60000 [==============================] - 7s 111us/sample - loss: 0.2108 - val_loss: 0.2083\n",
      "Epoch 22/50\n",
      "60000/60000 [==============================] - 7s 117us/sample - loss: 0.2075 - val_loss: 0.2052\n",
      "Epoch 23/50\n",
      "60000/60000 [==============================] - 9s 147us/sample - loss: 0.2046 - val_loss: 0.2024\n",
      "Epoch 24/50\n",
      "60000/60000 [==============================] - 10s 162us/sample - loss: 0.2020 - val_loss: 0.2000\n",
      "Epoch 25/50\n",
      "60000/60000 [==============================] - 7s 114us/sample - loss: 0.1997 - val_loss: 0.1978\n",
      "Epoch 26/50\n",
      "60000/60000 [==============================] - 7s 116us/sample - loss: 0.1977 - val_loss: 0.1959\n",
      "Epoch 27/50\n",
      "60000/60000 [==============================] - 7s 122us/sample - loss: 0.1958 - val_loss: 0.1941\n",
      "Epoch 28/50\n",
      "60000/60000 [==============================] - 8s 129us/sample - loss: 0.1942 - val_loss: 0.1926\n",
      "Epoch 29/50\n",
      "60000/60000 [==============================] - 8s 133us/sample - loss: 0.1927 - val_loss: 0.1911\n",
      "Epoch 30/50\n",
      "60000/60000 [==============================] - 7s 122us/sample - loss: 0.1912 - val_loss: 0.1898\n",
      "Epoch 31/50\n",
      "60000/60000 [==============================] - 7s 120us/sample - loss: 0.1899 - val_loss: 0.1885\n",
      "Epoch 32/50\n",
      "60000/60000 [==============================] - 7s 122us/sample - loss: 0.1887 - val_loss: 0.1873\n",
      "Epoch 33/50\n",
      "60000/60000 [==============================] - 8s 126us/sample - loss: 0.1875 - val_loss: 0.1862\n",
      "Epoch 34/50\n",
      "60000/60000 [==============================] - 8s 129us/sample - loss: 0.1864 - val_loss: 0.1852\n",
      "Epoch 35/50\n",
      "60000/60000 [==============================] - 7s 116us/sample - loss: 0.1854 - val_loss: 0.1842\n",
      "Epoch 36/50\n",
      "60000/60000 [==============================] - 7s 123us/sample - loss: 0.1845 - val_loss: 0.1834\n",
      "Epoch 37/50\n",
      "60000/60000 [==============================] - 7s 114us/sample - loss: 0.1836 - val_loss: 0.1826\n",
      "Epoch 38/50\n",
      "60000/60000 [==============================] - 6s 104us/sample - loss: 0.1828 - val_loss: 0.1818\n",
      "Epoch 39/50\n",
      "60000/60000 [==============================] - 7s 113us/sample - loss: 0.1821 - val_loss: 0.1812\n",
      "Epoch 40/50\n",
      "60000/60000 [==============================] - 8s 130us/sample - loss: 0.1815 - val_loss: 0.1806\n",
      "Epoch 41/50\n",
      "60000/60000 [==============================] - 8s 135us/sample - loss: 0.1809 - val_loss: 0.1801\n",
      "Epoch 42/50\n",
      "60000/60000 [==============================] - 8s 125us/sample - loss: 0.1804 - val_loss: 0.1796\n",
      "Epoch 43/50\n",
      "60000/60000 [==============================] - 7s 119us/sample - loss: 0.1799 - val_loss: 0.1791\n",
      "Epoch 44/50\n",
      "60000/60000 [==============================] - 7s 118us/sample - loss: 0.1794 - val_loss: 0.1787\n",
      "Epoch 45/50\n",
      "60000/60000 [==============================] - 7s 111us/sample - loss: 0.1790 - val_loss: 0.1783\n",
      "Epoch 46/50\n",
      "60000/60000 [==============================] - 7s 120us/sample - loss: 0.1786 - val_loss: 0.1779\n",
      "Epoch 47/50\n",
      "60000/60000 [==============================] - 7s 124us/sample - loss: 0.1783 - val_loss: 0.1776\n",
      "Epoch 48/50\n",
      "60000/60000 [==============================] - 7s 117us/sample - loss: 0.1779 - val_loss: 0.1773\n",
      "Epoch 49/50\n",
      "60000/60000 [==============================] - 7s 115us/sample - loss: 0.1776 - val_loss: 0.1770\n",
      "Epoch 50/50\n",
      "60000/60000 [==============================] - 6s 105us/sample - loss: 0.1773 - val_loss: 0.1768\n"
     ]
    },
    {
     "data": {
      "text/plain": [
       "<tensorflow.python.keras.callbacks.History at 0x7f28b10d55d0>"
      ]
     },
     "execution_count": 162,
     "metadata": {},
     "output_type": "execute_result"
    }
   ],
   "source": [
    "autoencoder.fit(x_train_noisy, x_train,\n",
    "                epochs=25,\n",
    "                batch_size=256,\n",
    "               validation_data=(x_test_noisy, x_test))"
   ]
  },
  {
   "cell_type": "code",
   "execution_count": 163,
   "metadata": {},
   "outputs": [],
   "source": [
    "encoded_imgs = encoder.predict(x_test_noisy)\n",
    "decoded_imgs = decoder.predict(encoded_imgs)"
   ]
  },
  {
   "cell_type": "code",
   "execution_count": 164,
   "metadata": {},
   "outputs": [
    {
     "data": {
      "image/png": "[encoded data removed]",
      "text/plain": [
       "<Figure size 1440x288 with 20 Axes>"
      ]
     },
     "metadata": {
      "needs_background": "light"
     },
     "output_type": "display_data"
    }
   ],
   "source": [
    "n = 10\n",
    "plt.figure(figsize=(20, 4))\n",
    "for i in range(n):\n",
    "    ax = plt.subplot(2, n, i + 1)\n",
    "    plt.imshow(x_test_noisy[i].reshape(28, 28))\n",
    "    plt.gray()\n",
    "    ax.get_xaxis().set_visible(False)\n",
    "    ax.get_yaxis().set_visible(False)\n",
    "    ax = plt.subplot(2, n, i + 1 + n)\n",
    "    plt.imshow(decoded_imgs[i].reshape(28, 28))\n",
    "    plt.gray()\n",
    "    ax.get_xaxis().set_visible(False)\n",
    "    ax.get_yaxis().set_visible(False)\n",
    "plt.show()"
   ]
  },
  {
   "cell_type": "markdown",
   "metadata": {},
   "source": [
    "    Now try deep fully-connected autoencoder instead"
   ]
  },
  {
   "cell_type": "code",
   "execution_count": 165,
   "metadata": {},
   "outputs": [],
   "source": [
    "\n",
    "autoencoder_fully_connected = tf.keras.Sequential()\n",
    "autoencoder_fully_connected.add(tf.keras.layers.Dense(128, activation='relu'))\n",
    "autoencoder_fully_connected.add(tf.keras.layers.BatchNormalization())\n",
    "autoencoder_fully_connected.add(tf.keras.layers.Dense(64, activation='relu'))\n",
    "autoencoder_fully_connected.add(tf.keras.layers.BatchNormalization())\n",
    "autoencoder_fully_connected.add(tf.keras.layers.Dense(32, activation='relu'))\n",
    "autoencoder_fully_connected.add(tf.keras.layers.BatchNormalization())\n",
    "autoencoder_fully_connected.add(tf.keras.layers.Dense(64, activation='relu'))\n",
    "autoencoder_fully_connected.add(tf.keras.layers.BatchNormalization())\n",
    "autoencoder_fully_connected.add(tf.keras.layers.Dense(128, activation='relu'))\n",
    "autoencoder_fully_connected.add(tf.keras.layers.Dense(784, activation='sigmoid'))\n"
   ]
  },
  {
   "cell_type": "code",
   "execution_count": 166,
   "metadata": {},
   "outputs": [],
   "source": [
    "autoencoder_fully_connected.compile(optimizer='adam', loss='binary_crossentropy')"
   ]
  },
  {
   "cell_type": "markdown",
   "metadata": {},
   "source": [
    "## Deep autoencoder on normal mnist"
   ]
  },
  {
   "cell_type": "code",
   "execution_count": 167,
   "metadata": {
    "scrolled": true
   },
   "outputs": [
    {
     "name": "stdout",
     "output_type": "stream",
     "text": [
      "Train on 60000 samples, validate on 10000 samples\n",
      "Epoch 1/25\n",
      "60000/60000 [==============================] - 13s 224us/sample - loss: 0.2289 - val_loss: 0.1641\n",
      "Epoch 2/25\n",
      "60000/60000 [==============================] - 14s 237us/sample - loss: 0.1431 - val_loss: 0.1333\n",
      "Epoch 3/25\n",
      "60000/60000 [==============================] - 12s 196us/sample - loss: 0.1255 - val_loss: 0.1210\n",
      "Epoch 4/25\n",
      "60000/60000 [==============================] - 14s 240us/sample - loss: 0.1143 - val_loss: 0.1129\n",
      "Epoch 5/25\n",
      "60000/60000 [==============================] - 11s 188us/sample - loss: 0.1071 - val_loss: 0.1063\n",
      "Epoch 6/25\n",
      "60000/60000 [==============================] - 13s 220us/sample - loss: 0.1023 - val_loss: 0.1003\n",
      "Epoch 7/25\n",
      "60000/60000 [==============================] - 13s 216us/sample - loss: 0.0984 - val_loss: 0.0971\n",
      "Epoch 8/25\n",
      "60000/60000 [==============================] - 13s 221us/sample - loss: 0.0955 - val_loss: 0.0939\n",
      "Epoch 9/25\n",
      "60000/60000 [==============================] - 12s 203us/sample - loss: 0.0934 - val_loss: 0.0907\n",
      "Epoch 10/25\n",
      "60000/60000 [==============================] - 14s 226us/sample - loss: 0.0917 - val_loss: 0.0891\n",
      "Epoch 11/25\n",
      "60000/60000 [==============================] - 14s 234us/sample - loss: 0.0903 - val_loss: 0.0881\n",
      "Epoch 12/25\n",
      "60000/60000 [==============================] - 14s 238us/sample - loss: 0.0892 - val_loss: 0.0866\n",
      "Epoch 13/25\n",
      "60000/60000 [==============================] - 15s 245us/sample - loss: 0.0882 - val_loss: 0.0865\n",
      "Epoch 14/25\n",
      "60000/60000 [==============================] - 14s 237us/sample - loss: 0.0874 - val_loss: 0.0853\n",
      "Epoch 15/25\n",
      "60000/60000 [==============================] - 13s 222us/sample - loss: 0.0867 - val_loss: 0.0846\n",
      "Epoch 16/25\n",
      "60000/60000 [==============================] - 20s 337us/sample - loss: 0.0861 - val_loss: 0.0839\n",
      "Epoch 17/25\n",
      "60000/60000 [==============================] - 12s 207us/sample - loss: 0.0855 - val_loss: 0.0837\n",
      "Epoch 18/25\n",
      "60000/60000 [==============================] - 9s 149us/sample - loss: 0.0850 - val_loss: 0.0830\n",
      "Epoch 19/25\n",
      "60000/60000 [==============================] - 9s 147us/sample - loss: 0.0846 - val_loss: 0.0825\n",
      "Epoch 20/25\n",
      "60000/60000 [==============================] - 10s 162us/sample - loss: 0.0842 - val_loss: 0.0825\n",
      "Epoch 21/25\n",
      "60000/60000 [==============================] - 9s 146us/sample - loss: 0.0840 - val_loss: 0.0820\n",
      "Epoch 22/25\n",
      "60000/60000 [==============================] - 10s 163us/sample - loss: 0.0837 - val_loss: 0.0814\n",
      "Epoch 23/25\n",
      "60000/60000 [==============================] - 10s 159us/sample - loss: 0.0834 - val_loss: 0.0813\n",
      "Epoch 24/25\n",
      "60000/60000 [==============================] - 9s 157us/sample - loss: 0.0832 - val_loss: 0.0810\n",
      "Epoch 25/25\n",
      "60000/60000 [==============================] - 10s 162us/sample - loss: 0.0829 - val_loss: 0.0807\n"
     ]
    },
    {
     "data": {
      "text/plain": [
       "<tensorflow.python.keras.callbacks.History at 0x7f28c8af0bd0>"
      ]
     },
     "execution_count": 167,
     "metadata": {},
     "output_type": "execute_result"
    }
   ],
   "source": [
    "autoencoder_fully_connected.fit(x_train, x_train,\n",
    "                epochs=25,\n",
    "                batch_size=256,\n",
    "                shuffle=True,\n",
    "                validation_data=(x_test, x_test))"
   ]
  },
  {
   "cell_type": "code",
   "execution_count": 168,
   "metadata": {},
   "outputs": [],
   "source": [
    "decoded_imgs = autoencoder_fully_connected.predict(x_test)"
   ]
  },
  {
   "cell_type": "code",
   "execution_count": 169,
   "metadata": {
    "scrolled": true
   },
   "outputs": [
    {
     "data": {
      "image/png": "[encoded data removed]",
      "text/plain": [
       "<Figure size 1440x288 with 20 Axes>"
      ]
     },
     "metadata": {
      "needs_background": "light"
     },
     "output_type": "display_data"
    }
   ],
   "source": [
    "n = 10\n",
    "plt.figure(figsize=(20, 4))\n",
    "for i in range(n):\n",
    "    ax = plt.subplot(2, n, i + 1)\n",
    "    plt.imshow(x_test[i].reshape(28, 28))\n",
    "    plt.gray()\n",
    "    ax.get_xaxis().set_visible(False)\n",
    "    ax.get_yaxis().set_visible(False)\n",
    "    ax = plt.subplot(2, n, i + 1 + n)\n",
    "    plt.imshow(decoded_imgs[i].reshape(28, 28))\n",
    "    plt.gray()\n",
    "    ax.get_xaxis().set_visible(False)\n",
    "    ax.get_yaxis().set_visible(False)\n",
    "plt.show()"
   ]
  },
  {
   "cell_type": "markdown",
   "metadata": {},
   "source": [
    "## On colab with 100 epoch, loss reached till 0.075, but still its not so good result."
   ]
  },
  {
   "cell_type": "markdown",
   "metadata": {},
   "source": [
    "## Deep autoencoder on noisy data"
   ]
  },
  {
   "cell_type": "code",
   "execution_count": 170,
   "metadata": {},
   "outputs": [
    {
     "name": "stdout",
     "output_type": "stream",
     "text": [
      "Train on 60000 samples, validate on 10000 samples\n",
      "Epoch 1/25\n",
      "60000/60000 [==============================] - 14s 227us/sample - loss: 0.1708 - val_loss: 0.2107\n",
      "Epoch 2/25\n",
      "60000/60000 [==============================] - 13s 212us/sample - loss: 0.1582 - val_loss: 0.1547\n",
      "Epoch 3/25\n",
      "60000/60000 [==============================] - 13s 217us/sample - loss: 0.1555 - val_loss: 0.1532\n",
      "Epoch 4/25\n",
      "60000/60000 [==============================] - 13s 224us/sample - loss: 0.1540 - val_loss: 0.1528\n",
      "Epoch 5/25\n",
      "60000/60000 [==============================] - 12s 201us/sample - loss: 0.1529 - val_loss: 0.1518\n",
      "Epoch 6/25\n",
      "60000/60000 [==============================] - 14s 227us/sample - loss: 0.1521 - val_loss: 0.1514\n",
      "Epoch 7/25\n",
      "60000/60000 [==============================] - 14s 233us/sample - loss: 0.1514 - val_loss: 0.1511\n",
      "Epoch 8/25\n",
      "60000/60000 [==============================] - 13s 217us/sample - loss: 0.1509 - val_loss: 0.1504\n",
      "Epoch 9/25\n",
      "60000/60000 [==============================] - 13s 220us/sample - loss: 0.1504 - val_loss: 0.1506\n",
      "Epoch 10/25\n",
      "60000/60000 [==============================] - 14s 226us/sample - loss: 0.1499 - val_loss: 0.1503\n",
      "Epoch 11/25\n",
      "60000/60000 [==============================] - 12s 200us/sample - loss: 0.1495 - val_loss: 0.1497\n",
      "Epoch 12/25\n",
      "60000/60000 [==============================] - 12s 206us/sample - loss: 0.1491 - val_loss: 0.1501\n",
      "Epoch 13/25\n",
      "60000/60000 [==============================] - 13s 223us/sample - loss: 0.1489 - val_loss: 0.1500\n",
      "Epoch 14/25\n",
      "60000/60000 [==============================] - 14s 233us/sample - loss: 0.1486 - val_loss: 0.1496\n",
      "Epoch 15/25\n",
      "60000/60000 [==============================] - 13s 214us/sample - loss: 0.1483 - val_loss: 0.1499\n",
      "Epoch 16/25\n",
      "60000/60000 [==============================] - 13s 212us/sample - loss: 0.1482 - val_loss: 0.1498\n",
      "Epoch 17/25\n",
      "60000/60000 [==============================] - 14s 233us/sample - loss: 0.1480 - val_loss: 0.1495\n",
      "Epoch 18/25\n",
      "60000/60000 [==============================] - 14s 232us/sample - loss: 0.1477 - val_loss: 0.1493\n",
      "Epoch 19/25\n",
      "60000/60000 [==============================] - 13s 211us/sample - loss: 0.1475 - val_loss: 0.1492\n",
      "Epoch 20/25\n",
      "60000/60000 [==============================] - 14s 232us/sample - loss: 0.1473 - val_loss: 0.1491\n",
      "Epoch 21/25\n",
      "60000/60000 [==============================] - 13s 212us/sample - loss: 0.1471 - val_loss: 0.1489\n",
      "Epoch 22/25\n",
      "60000/60000 [==============================] - 13s 212us/sample - loss: 0.1470 - val_loss: 0.1490\n",
      "Epoch 23/25\n",
      "60000/60000 [==============================] - 13s 217us/sample - loss: 0.1468 - val_loss: 0.1491\n",
      "Epoch 24/25\n",
      "60000/60000 [==============================] - 13s 214us/sample - loss: 0.1467 - val_loss: 0.1494\n",
      "Epoch 25/25\n",
      "60000/60000 [==============================] - 12s 199us/sample - loss: 0.1466 - val_loss: 0.1490\n"
     ]
    },
    {
     "data": {
      "text/plain": [
       "<tensorflow.python.keras.callbacks.History at 0x7f2899f327d0>"
      ]
     },
     "execution_count": 170,
     "metadata": {},
     "output_type": "execute_result"
    }
   ],
   "source": [
    "autoencoder_fully_connected.fit(x_train_noisy, x_train,\n",
    "                epochs=25,\n",
    "                batch_size=128,\n",
    "                shuffle=True,\n",
    "                validation_data=(x_test_noisy, x_test))"
   ]
  },
  {
   "cell_type": "code",
   "execution_count": 171,
   "metadata": {},
   "outputs": [],
   "source": [
    "decoded_imgs = autoencoder_fully_connected.predict(x_test_noisy)"
   ]
  },
  {
   "cell_type": "code",
   "execution_count": 172,
   "metadata": {},
   "outputs": [
    {
     "data": {
      "image/png": "[encoded data removed]",
      "text/plain": [
       "<Figure size 1440x288 with 20 Axes>"
      ]
     },
     "metadata": {
      "needs_background": "light"
     },
     "output_type": "display_data"
    }
   ],
   "source": [
    "n = 10\n",
    "plt.figure(figsize=(20, 4))\n",
    "for i in range(n):\n",
    "    ax = plt.subplot(2, n, i + 1)\n",
    "    plt.imshow(x_test_noisy[i].reshape(28, 28))\n",
    "    plt.gray()\n",
    "    ax.get_xaxis().set_visible(False)\n",
    "    ax.get_yaxis().set_visible(False)\n",
    "    ax = plt.subplot(2, n, i + 1 + n)\n",
    "    plt.imshow(decoded_imgs[i].reshape(28, 28))\n",
    "    plt.gray()\n",
    "    ax.get_xaxis().set_visible(False)\n",
    "    ax.get_yaxis().set_visible(False)\n",
    "plt.show()"
   ]
  },
  {
   "cell_type": "markdown",
   "metadata": {},
   "source": [
    "    Try convolutional or fully-connected autoencoders on Fashion-MNIST dataset (google collab comes to rescue) "
   ]
  },
  {
   "cell_type": "code",
   "execution_count": 173,
   "metadata": {},
   "outputs": [],
   "source": [
    "(x_train, _), (x_test, _) = datasets.fashion_mnist.load_data()"
   ]
  },
  {
   "cell_type": "code",
   "execution_count": 174,
   "metadata": {},
   "outputs": [],
   "source": [
    "x_train = x_train.astype('float32') / 255.\n",
    "x_test = x_test.astype('float32') / 255.\n",
    "x_train = np.reshape(x_train, (len(x_train), 28, 28, 1))\n",
    "x_test = np.reshape(x_test, (len(x_test), 28, 28, 1))"
   ]
  },
  {
   "cell_type": "code",
   "execution_count": 175,
   "metadata": {},
   "outputs": [],
   "source": [
    "input_img = tf.keras.Input(shape=(28, 28, 1))\n",
    "x = tf.keras.layers.Conv2D(16, (3, 3), activation='relu', padding='same')(input_img)\n",
    "x = tf.keras.layers.MaxPooling2D((2, 2), padding='same')(x)\n",
    "x = tf.keras.layers.Conv2D(8, (3, 3), activation='relu', padding='same')(x)\n",
    "x = tf.keras.layers.MaxPooling2D((2, 2), padding='same')(x)\n",
    "x = tf.keras.layers.Conv2D(8, (3, 3), activation='relu', padding='same')(x)\n",
    "encoded = tf.keras.layers.MaxPooling2D((2, 2), padding='same')(x)\n",
    "x = tf.keras.layers.Conv2D(8, (3, 3), activation='relu', padding='same')(encoded)\n",
    "x = tf.keras.layers.UpSampling2D((2, 2))(x)\n",
    "x = tf.keras.layers.Conv2D(8, (3, 3), activation='relu', padding='same')(x)\n",
    "x = tf.keras.layers.UpSampling2D((2, 2))(x)\n",
    "x = tf.keras.layers.Conv2D(16, (3, 3), activation='relu')(x)\n",
    "x = tf.keras.layers.UpSampling2D((2, 2))(x)\n",
    "decoded = tf.keras.layers.Conv2D(1, (3, 3), activation='sigmoid', padding='same')(x)\n",
    "autoencoder_conv = tf.keras.Model(input_img, decoded)\n",
    "autoencoder_conv.compile(optimizer='adam', loss='binary_crossentropy')"
   ]
  },
  {
   "cell_type": "code",
   "execution_count": 176,
   "metadata": {
    "collapsed": true
   },
   "outputs": [
    {
     "name": "stdout",
     "output_type": "stream",
     "text": [
      "Train on 60000 samples, validate on 10000 samples\n",
      "Epoch 1/50\n",
      "60000/60000 [==============================] - 74s 1ms/sample - loss: 0.3958 - val_loss: 0.3260\n",
      "Epoch 2/50\n",
      "60000/60000 [==============================] - 60s 1ms/sample - loss: 0.3145 - val_loss: 0.3108\n",
      "Epoch 3/50\n",
      "60000/60000 [==============================] - 72s 1ms/sample - loss: 0.3056 - val_loss: 0.3049\n",
      "Epoch 4/50\n",
      "60000/60000 [==============================] - 75s 1ms/sample - loss: 0.3011 - val_loss: 0.3019\n",
      "Epoch 5/50\n",
      "60000/60000 [==============================] - 78s 1ms/sample - loss: 0.2984 - val_loss: 0.2993\n",
      "Epoch 6/50\n",
      "27648/60000 [============>.................] - ETA: 41s - loss: 0.2971"
     ]
    },
    {
     "ename": "KeyboardInterrupt",
     "evalue": "",
     "output_type": "error",
     "traceback": [
      "\u001b[0;31m---------------------------------------------------------------------------\u001b[0m",
      "\u001b[0;31mKeyboardInterrupt\u001b[0m                         Traceback (most recent call last)",
      "\u001b[0;32m<ipython-input-176-e870b903164c>\u001b[0m in \u001b[0;36m<module>\u001b[0;34m\u001b[0m\n\u001b[1;32m      3\u001b[0m                 \u001b[0mbatch_size\u001b[0m\u001b[0;34m=\u001b[0m\u001b[0;36m256\u001b[0m\u001b[0;34m,\u001b[0m\u001b[0;34m\u001b[0m\u001b[0;34m\u001b[0m\u001b[0m\n\u001b[1;32m      4\u001b[0m                 \u001b[0mshuffle\u001b[0m\u001b[0;34m=\u001b[0m\u001b[0;32mTrue\u001b[0m\u001b[0;34m,\u001b[0m\u001b[0;34m\u001b[0m\u001b[0;34m\u001b[0m\u001b[0m\n\u001b[0;32m----> 5\u001b[0;31m                 validation_data=(x_test, x_test))\n\u001b[0m",
      "\u001b[0;32m~/anaconda3/lib/python3.7/site-packages/tensorflow_core/python/keras/engine/training.py\u001b[0m in \u001b[0;36mfit\u001b[0;34m(self, x, y, batch_size, epochs, verbose, callbacks, validation_split, validation_data, shuffle, class_weight, sample_weight, initial_epoch, steps_per_epoch, validation_steps, validation_freq, max_queue_size, workers, use_multiprocessing, **kwargs)\u001b[0m\n\u001b[1;32m    726\u001b[0m         \u001b[0mmax_queue_size\u001b[0m\u001b[0;34m=\u001b[0m\u001b[0mmax_queue_size\u001b[0m\u001b[0;34m,\u001b[0m\u001b[0;34m\u001b[0m\u001b[0;34m\u001b[0m\u001b[0m\n\u001b[1;32m    727\u001b[0m         \u001b[0mworkers\u001b[0m\u001b[0;34m=\u001b[0m\u001b[0mworkers\u001b[0m\u001b[0;34m,\u001b[0m\u001b[0;34m\u001b[0m\u001b[0;34m\u001b[0m\u001b[0m\n\u001b[0;32m--> 728\u001b[0;31m         use_multiprocessing=use_multiprocessing)\n\u001b[0m\u001b[1;32m    729\u001b[0m \u001b[0;34m\u001b[0m\u001b[0m\n\u001b[1;32m    730\u001b[0m   def evaluate(self,\n",
      "\u001b[0;32m~/anaconda3/lib/python3.7/site-packages/tensorflow_core/python/keras/engine/training_v2.py\u001b[0m in \u001b[0;36mfit\u001b[0;34m(self, model, x, y, batch_size, epochs, verbose, callbacks, validation_split, validation_data, shuffle, class_weight, sample_weight, initial_epoch, steps_per_epoch, validation_steps, validation_freq, **kwargs)\u001b[0m\n\u001b[1;32m    322\u001b[0m                 \u001b[0mmode\u001b[0m\u001b[0;34m=\u001b[0m\u001b[0mModeKeys\u001b[0m\u001b[0;34m.\u001b[0m\u001b[0mTRAIN\u001b[0m\u001b[0;34m,\u001b[0m\u001b[0;34m\u001b[0m\u001b[0;34m\u001b[0m\u001b[0m\n\u001b[1;32m    323\u001b[0m                 \u001b[0mtraining_context\u001b[0m\u001b[0;34m=\u001b[0m\u001b[0mtraining_context\u001b[0m\u001b[0;34m,\u001b[0m\u001b[0;34m\u001b[0m\u001b[0;34m\u001b[0m\u001b[0m\n\u001b[0;32m--> 324\u001b[0;31m                 total_epochs=epochs)\n\u001b[0m\u001b[1;32m    325\u001b[0m             \u001b[0mcbks\u001b[0m\u001b[0;34m.\u001b[0m\u001b[0mmake_logs\u001b[0m\u001b[0;34m(\u001b[0m\u001b[0mmodel\u001b[0m\u001b[0;34m,\u001b[0m \u001b[0mepoch_logs\u001b[0m\u001b[0;34m,\u001b[0m \u001b[0mtraining_result\u001b[0m\u001b[0;34m,\u001b[0m \u001b[0mModeKeys\u001b[0m\u001b[0;34m.\u001b[0m\u001b[0mTRAIN\u001b[0m\u001b[0;34m)\u001b[0m\u001b[0;34m\u001b[0m\u001b[0;34m\u001b[0m\u001b[0m\n\u001b[1;32m    326\u001b[0m \u001b[0;34m\u001b[0m\u001b[0m\n",
      "\u001b[0;32m~/anaconda3/lib/python3.7/site-packages/tensorflow_core/python/keras/engine/training_v2.py\u001b[0m in \u001b[0;36mrun_one_epoch\u001b[0;34m(model, iterator, execution_function, dataset_size, batch_size, strategy, steps_per_epoch, num_samples, mode, training_context, total_epochs)\u001b[0m\n\u001b[1;32m    121\u001b[0m         step=step, mode=mode, size=current_batch_size) as batch_logs:\n\u001b[1;32m    122\u001b[0m       \u001b[0;32mtry\u001b[0m\u001b[0;34m:\u001b[0m\u001b[0;34m\u001b[0m\u001b[0;34m\u001b[0m\u001b[0m\n\u001b[0;32m--> 123\u001b[0;31m         \u001b[0mbatch_outs\u001b[0m \u001b[0;34m=\u001b[0m \u001b[0mexecution_function\u001b[0m\u001b[0;34m(\u001b[0m\u001b[0miterator\u001b[0m\u001b[0;34m)\u001b[0m\u001b[0;34m\u001b[0m\u001b[0;34m\u001b[0m\u001b[0m\n\u001b[0m\u001b[1;32m    124\u001b[0m       \u001b[0;32mexcept\u001b[0m \u001b[0;34m(\u001b[0m\u001b[0mStopIteration\u001b[0m\u001b[0;34m,\u001b[0m \u001b[0merrors\u001b[0m\u001b[0;34m.\u001b[0m\u001b[0mOutOfRangeError\u001b[0m\u001b[0;34m)\u001b[0m\u001b[0;34m:\u001b[0m\u001b[0;34m\u001b[0m\u001b[0;34m\u001b[0m\u001b[0m\n\u001b[1;32m    125\u001b[0m         \u001b[0;31m# TODO(kaftan): File bug about tf function and errors.OutOfRangeError?\u001b[0m\u001b[0;34m\u001b[0m\u001b[0;34m\u001b[0m\u001b[0;34m\u001b[0m\u001b[0m\n",
      "\u001b[0;32m~/anaconda3/lib/python3.7/site-packages/tensorflow_core/python/keras/engine/training_v2_utils.py\u001b[0m in \u001b[0;36mexecution_function\u001b[0;34m(input_fn)\u001b[0m\n\u001b[1;32m     84\u001b[0m     \u001b[0;31m# `numpy` translates Tensors to values in Eager mode.\u001b[0m\u001b[0;34m\u001b[0m\u001b[0;34m\u001b[0m\u001b[0;34m\u001b[0m\u001b[0m\n\u001b[1;32m     85\u001b[0m     return nest.map_structure(_non_none_constant_value,\n\u001b[0;32m---> 86\u001b[0;31m                               distributed_function(input_fn))\n\u001b[0m\u001b[1;32m     87\u001b[0m \u001b[0;34m\u001b[0m\u001b[0m\n\u001b[1;32m     88\u001b[0m   \u001b[0;32mreturn\u001b[0m \u001b[0mexecution_function\u001b[0m\u001b[0;34m\u001b[0m\u001b[0;34m\u001b[0m\u001b[0m\n",
      "\u001b[0;32m~/anaconda3/lib/python3.7/site-packages/tensorflow_core/python/eager/def_function.py\u001b[0m in \u001b[0;36m__call__\u001b[0;34m(self, *args, **kwds)\u001b[0m\n\u001b[1;32m    455\u001b[0m \u001b[0;34m\u001b[0m\u001b[0m\n\u001b[1;32m    456\u001b[0m     \u001b[0mtracing_count\u001b[0m \u001b[0;34m=\u001b[0m \u001b[0mself\u001b[0m\u001b[0;34m.\u001b[0m\u001b[0m_get_tracing_count\u001b[0m\u001b[0;34m(\u001b[0m\u001b[0;34m)\u001b[0m\u001b[0;34m\u001b[0m\u001b[0;34m\u001b[0m\u001b[0m\n\u001b[0;32m--> 457\u001b[0;31m     \u001b[0mresult\u001b[0m \u001b[0;34m=\u001b[0m \u001b[0mself\u001b[0m\u001b[0;34m.\u001b[0m\u001b[0m_call\u001b[0m\u001b[0;34m(\u001b[0m\u001b[0;34m*\u001b[0m\u001b[0margs\u001b[0m\u001b[0;34m,\u001b[0m \u001b[0;34m**\u001b[0m\u001b[0mkwds\u001b[0m\u001b[0;34m)\u001b[0m\u001b[0;34m\u001b[0m\u001b[0;34m\u001b[0m\u001b[0m\n\u001b[0m\u001b[1;32m    458\u001b[0m     \u001b[0;32mif\u001b[0m \u001b[0mtracing_count\u001b[0m \u001b[0;34m==\u001b[0m \u001b[0mself\u001b[0m\u001b[0;34m.\u001b[0m\u001b[0m_get_tracing_count\u001b[0m\u001b[0;34m(\u001b[0m\u001b[0;34m)\u001b[0m\u001b[0;34m:\u001b[0m\u001b[0;34m\u001b[0m\u001b[0;34m\u001b[0m\u001b[0m\n\u001b[1;32m    459\u001b[0m       \u001b[0mself\u001b[0m\u001b[0;34m.\u001b[0m\u001b[0m_call_counter\u001b[0m\u001b[0;34m.\u001b[0m\u001b[0mcalled_without_tracing\u001b[0m\u001b[0;34m(\u001b[0m\u001b[0;34m)\u001b[0m\u001b[0;34m\u001b[0m\u001b[0;34m\u001b[0m\u001b[0m\n",
      "\u001b[0;32m~/anaconda3/lib/python3.7/site-packages/tensorflow_core/python/eager/def_function.py\u001b[0m in \u001b[0;36m_call\u001b[0;34m(self, *args, **kwds)\u001b[0m\n\u001b[1;32m    485\u001b[0m       \u001b[0;31m# In this case we have created variables on the first call, so we run the\u001b[0m\u001b[0;34m\u001b[0m\u001b[0;34m\u001b[0m\u001b[0;34m\u001b[0m\u001b[0m\n\u001b[1;32m    486\u001b[0m       \u001b[0;31m# defunned version which is guaranteed to never create variables.\u001b[0m\u001b[0;34m\u001b[0m\u001b[0;34m\u001b[0m\u001b[0;34m\u001b[0m\u001b[0m\n\u001b[0;32m--> 487\u001b[0;31m       \u001b[0;32mreturn\u001b[0m \u001b[0mself\u001b[0m\u001b[0;34m.\u001b[0m\u001b[0m_stateless_fn\u001b[0m\u001b[0;34m(\u001b[0m\u001b[0;34m*\u001b[0m\u001b[0margs\u001b[0m\u001b[0;34m,\u001b[0m \u001b[0;34m**\u001b[0m\u001b[0mkwds\u001b[0m\u001b[0;34m)\u001b[0m  \u001b[0;31m# pylint: disable=not-callable\u001b[0m\u001b[0;34m\u001b[0m\u001b[0;34m\u001b[0m\u001b[0m\n\u001b[0m\u001b[1;32m    488\u001b[0m     \u001b[0;32melif\u001b[0m \u001b[0mself\u001b[0m\u001b[0;34m.\u001b[0m\u001b[0m_stateful_fn\u001b[0m \u001b[0;32mis\u001b[0m \u001b[0;32mnot\u001b[0m \u001b[0;32mNone\u001b[0m\u001b[0;34m:\u001b[0m\u001b[0;34m\u001b[0m\u001b[0;34m\u001b[0m\u001b[0m\n\u001b[1;32m    489\u001b[0m       \u001b[0;31m# Release the lock early so that multiple threads can perform the call\u001b[0m\u001b[0;34m\u001b[0m\u001b[0;34m\u001b[0m\u001b[0;34m\u001b[0m\u001b[0m\n",
      "\u001b[0;32m~/anaconda3/lib/python3.7/site-packages/tensorflow_core/python/eager/function.py\u001b[0m in \u001b[0;36m__call__\u001b[0;34m(self, *args, **kwargs)\u001b[0m\n\u001b[1;32m   1821\u001b[0m     \u001b[0;34m\"\"\"Calls a graph function specialized to the inputs.\"\"\"\u001b[0m\u001b[0;34m\u001b[0m\u001b[0;34m\u001b[0m\u001b[0m\n\u001b[1;32m   1822\u001b[0m     \u001b[0mgraph_function\u001b[0m\u001b[0;34m,\u001b[0m \u001b[0margs\u001b[0m\u001b[0;34m,\u001b[0m \u001b[0mkwargs\u001b[0m \u001b[0;34m=\u001b[0m \u001b[0mself\u001b[0m\u001b[0;34m.\u001b[0m\u001b[0m_maybe_define_function\u001b[0m\u001b[0;34m(\u001b[0m\u001b[0margs\u001b[0m\u001b[0;34m,\u001b[0m \u001b[0mkwargs\u001b[0m\u001b[0;34m)\u001b[0m\u001b[0;34m\u001b[0m\u001b[0;34m\u001b[0m\u001b[0m\n\u001b[0;32m-> 1823\u001b[0;31m     \u001b[0;32mreturn\u001b[0m \u001b[0mgraph_function\u001b[0m\u001b[0;34m.\u001b[0m\u001b[0m_filtered_call\u001b[0m\u001b[0;34m(\u001b[0m\u001b[0margs\u001b[0m\u001b[0;34m,\u001b[0m \u001b[0mkwargs\u001b[0m\u001b[0;34m)\u001b[0m  \u001b[0;31m# pylint: disable=protected-access\u001b[0m\u001b[0;34m\u001b[0m\u001b[0;34m\u001b[0m\u001b[0m\n\u001b[0m\u001b[1;32m   1824\u001b[0m \u001b[0;34m\u001b[0m\u001b[0m\n\u001b[1;32m   1825\u001b[0m   \u001b[0;34m@\u001b[0m\u001b[0mproperty\u001b[0m\u001b[0;34m\u001b[0m\u001b[0;34m\u001b[0m\u001b[0m\n",
      "\u001b[0;32m~/anaconda3/lib/python3.7/site-packages/tensorflow_core/python/eager/function.py\u001b[0m in \u001b[0;36m_filtered_call\u001b[0;34m(self, args, kwargs)\u001b[0m\n\u001b[1;32m   1139\u001b[0m          if isinstance(t, (ops.Tensor,\n\u001b[1;32m   1140\u001b[0m                            resource_variable_ops.BaseResourceVariable))),\n\u001b[0;32m-> 1141\u001b[0;31m         self.captured_inputs)\n\u001b[0m\u001b[1;32m   1142\u001b[0m \u001b[0;34m\u001b[0m\u001b[0m\n\u001b[1;32m   1143\u001b[0m   \u001b[0;32mdef\u001b[0m \u001b[0m_call_flat\u001b[0m\u001b[0;34m(\u001b[0m\u001b[0mself\u001b[0m\u001b[0;34m,\u001b[0m \u001b[0margs\u001b[0m\u001b[0;34m,\u001b[0m \u001b[0mcaptured_inputs\u001b[0m\u001b[0;34m,\u001b[0m \u001b[0mcancellation_manager\u001b[0m\u001b[0;34m=\u001b[0m\u001b[0;32mNone\u001b[0m\u001b[0;34m)\u001b[0m\u001b[0;34m:\u001b[0m\u001b[0;34m\u001b[0m\u001b[0;34m\u001b[0m\u001b[0m\n",
      "\u001b[0;32m~/anaconda3/lib/python3.7/site-packages/tensorflow_core/python/eager/function.py\u001b[0m in \u001b[0;36m_call_flat\u001b[0;34m(self, args, captured_inputs, cancellation_manager)\u001b[0m\n\u001b[1;32m   1222\u001b[0m     \u001b[0;32mif\u001b[0m \u001b[0mexecuting_eagerly\u001b[0m\u001b[0;34m:\u001b[0m\u001b[0;34m\u001b[0m\u001b[0;34m\u001b[0m\u001b[0m\n\u001b[1;32m   1223\u001b[0m       flat_outputs = forward_function.call(\n\u001b[0;32m-> 1224\u001b[0;31m           ctx, args, cancellation_manager=cancellation_manager)\n\u001b[0m\u001b[1;32m   1225\u001b[0m     \u001b[0;32melse\u001b[0m\u001b[0;34m:\u001b[0m\u001b[0;34m\u001b[0m\u001b[0;34m\u001b[0m\u001b[0m\n\u001b[1;32m   1226\u001b[0m       \u001b[0mgradient_name\u001b[0m \u001b[0;34m=\u001b[0m \u001b[0mself\u001b[0m\u001b[0;34m.\u001b[0m\u001b[0m_delayed_rewrite_functions\u001b[0m\u001b[0;34m.\u001b[0m\u001b[0mregister\u001b[0m\u001b[0;34m(\u001b[0m\u001b[0;34m)\u001b[0m\u001b[0;34m\u001b[0m\u001b[0;34m\u001b[0m\u001b[0m\n",
      "\u001b[0;32m~/anaconda3/lib/python3.7/site-packages/tensorflow_core/python/eager/function.py\u001b[0m in \u001b[0;36mcall\u001b[0;34m(self, ctx, args, cancellation_manager)\u001b[0m\n\u001b[1;32m    509\u001b[0m               \u001b[0minputs\u001b[0m\u001b[0;34m=\u001b[0m\u001b[0margs\u001b[0m\u001b[0;34m,\u001b[0m\u001b[0;34m\u001b[0m\u001b[0;34m\u001b[0m\u001b[0m\n\u001b[1;32m    510\u001b[0m               \u001b[0mattrs\u001b[0m\u001b[0;34m=\u001b[0m\u001b[0;34m(\u001b[0m\u001b[0;34m\"executor_type\"\u001b[0m\u001b[0;34m,\u001b[0m \u001b[0mexecutor_type\u001b[0m\u001b[0;34m,\u001b[0m \u001b[0;34m\"config_proto\"\u001b[0m\u001b[0;34m,\u001b[0m \u001b[0mconfig\u001b[0m\u001b[0;34m)\u001b[0m\u001b[0;34m,\u001b[0m\u001b[0;34m\u001b[0m\u001b[0;34m\u001b[0m\u001b[0m\n\u001b[0;32m--> 511\u001b[0;31m               ctx=ctx)\n\u001b[0m\u001b[1;32m    512\u001b[0m         \u001b[0;32melse\u001b[0m\u001b[0;34m:\u001b[0m\u001b[0;34m\u001b[0m\u001b[0;34m\u001b[0m\u001b[0m\n\u001b[1;32m    513\u001b[0m           outputs = execute.execute_with_cancellation(\n",
      "\u001b[0;32m~/anaconda3/lib/python3.7/site-packages/tensorflow_core/python/eager/execute.py\u001b[0m in \u001b[0;36mquick_execute\u001b[0;34m(op_name, num_outputs, inputs, attrs, ctx, name)\u001b[0m\n\u001b[1;32m     59\u001b[0m     tensors = pywrap_tensorflow.TFE_Py_Execute(ctx._handle, device_name,\n\u001b[1;32m     60\u001b[0m                                                \u001b[0mop_name\u001b[0m\u001b[0;34m,\u001b[0m \u001b[0minputs\u001b[0m\u001b[0;34m,\u001b[0m \u001b[0mattrs\u001b[0m\u001b[0;34m,\u001b[0m\u001b[0;34m\u001b[0m\u001b[0;34m\u001b[0m\u001b[0m\n\u001b[0;32m---> 61\u001b[0;31m                                                num_outputs)\n\u001b[0m\u001b[1;32m     62\u001b[0m   \u001b[0;32mexcept\u001b[0m \u001b[0mcore\u001b[0m\u001b[0;34m.\u001b[0m\u001b[0m_NotOkStatusException\u001b[0m \u001b[0;32mas\u001b[0m \u001b[0me\u001b[0m\u001b[0;34m:\u001b[0m\u001b[0;34m\u001b[0m\u001b[0;34m\u001b[0m\u001b[0m\n\u001b[1;32m     63\u001b[0m     \u001b[0;32mif\u001b[0m \u001b[0mname\u001b[0m \u001b[0;32mis\u001b[0m \u001b[0;32mnot\u001b[0m \u001b[0;32mNone\u001b[0m\u001b[0;34m:\u001b[0m\u001b[0;34m\u001b[0m\u001b[0;34m\u001b[0m\u001b[0m\n",
      "\u001b[0;31mKeyboardInterrupt\u001b[0m: "
     ]
    }
   ],
   "source": [
    "autoencoder_conv.fit(x_train, x_train,\n",
    "                epochs=25,\n",
    "                batch_size=256,\n",
    "                shuffle=True,\n",
    "                validation_data=(x_test, x_test))"
   ]
  },
  {
   "cell_type": "markdown",
   "metadata": {},
   "source": [
    "## With colab the final loss was 0.28"
   ]
  },
  {
   "cell_type": "code",
   "execution_count": null,
   "metadata": {},
   "outputs": [],
   "source": [
    "decoded_imgs = autoencoder_conv.predict(x_test)"
   ]
  },
  {
   "cell_type": "code",
   "execution_count": null,
   "metadata": {},
   "outputs": [],
   "source": [
    "n = 10\n",
    "plt.figure(figsize=(20, 4))\n",
    "for i in range(n):\n",
    "    ax = plt.subplot(2, n, i + 1)\n",
    "    plt.imshow(x_test[i].reshape(28, 28))\n",
    "    plt.gray()\n",
    "    ax.get_xaxis().set_visible(False)\n",
    "    ax.get_yaxis().set_visible(False)\n",
    "    ax = plt.subplot(2, n, i + 1 + n)\n",
    "    plt.imshow(decoded_imgs[i].reshape(28, 28))\n",
    "    plt.gray()\n",
    "    ax.get_xaxis().set_visible(False)\n",
    "    ax.get_yaxis().set_visible(False)\n",
    "plt.show()"
   ]
  },
  {
   "cell_type": "markdown",
   "metadata": {},
   "source": [
    "![](./mnist_conv.PNG)"
   ]
  },
  {
   "cell_type": "markdown",
   "metadata": {},
   "source": [
    "## Here are the final results"
   ]
  }
 ],
 "metadata": {
  "kernelspec": {
   "display_name": "Python 3",
   "language": "python",
   "name": "python3"
  },
  "language_info": {
   "codemirror_mode": {
    "name": "ipython",
    "version": 3
   },
   "file_extension": ".py",
   "mimetype": "text/x-python",
   "name": "python",
   "nbconvert_exporter": "python",
   "pygments_lexer": "ipython3",
   "version": "3.7.4"
  }
 },
 "nbformat": 4,
 "nbformat_minor": 4
}
