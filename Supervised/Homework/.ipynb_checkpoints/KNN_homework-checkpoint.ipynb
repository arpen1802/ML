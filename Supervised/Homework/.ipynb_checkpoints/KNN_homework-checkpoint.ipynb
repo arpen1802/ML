{
 "cells": [
  {
   "cell_type": "markdown",
   "metadata": {},
   "source": [
    "# Imports\n"
   ]
  },
  {
   "cell_type": "code",
   "execution_count": 248,
   "metadata": {},
   "outputs": [],
   "source": [
    "import numpy as np \n",
    "import pandas as pd \n",
    "import matplotlib.pyplot as plt "
   ]
  },
  {
   "cell_type": "markdown",
   "metadata": {},
   "source": [
    "## Implement K-nn classifier"
   ]
  },
  {
   "cell_type": "code",
   "execution_count": 249,
   "metadata": {},
   "outputs": [],
   "source": [
    "class KNN_Classifier():\n",
    "    def __init__(self,k=10,metric=\"euclid\",metric_params=3,X_train = None , y_train = None):\n",
    "        \"\"\"\n",
    "        Initilize k and distance metrics\n",
    "        \"\"\"\n",
    "        self.k = k\n",
    "        self.metric = metric\n",
    "        self.metric_params = metric_params\n",
    "        self.X_train = X_train\n",
    "        self.y_train = y_train\n",
    "    \n",
    "    @staticmethod\n",
    "    def euclidian_distance(x,y):\n",
    "        \"\"\"\n",
    "        Calculate euclidian distance\n",
    "        \"\"\"\n",
    "        distance = 0.0\n",
    "        for i in range(len(x)-1):\n",
    "            distance += (x[i] - y[i])**2\n",
    "        return distance**(1/2)\n",
    "    \n",
    "    @staticmethod\n",
    "    def mincowski_distance(self,x,y):\n",
    "        \"\"\"\n",
    "        Calculate mincowski distance\n",
    "        \"\"\"\n",
    "        distance = 0.0\n",
    "        if(self.metric_params==0):\n",
    "            for i in range(len(x)-1):\n",
    "                distance += (abs(x[i] - y[i]))**self.metric_params\n",
    "            return distance\n",
    "        else:\n",
    "            for i in range(len(x)-1):\n",
    "                distance += (abs(x[i] - y[i]))**self.metric_params\n",
    "            return (distance)**(1/self.metric_params)\n",
    "\n",
    "    \n",
    "    def fit(self,X_train,y_train):\n",
    "        \"\"\"\n",
    "        Just remember the data\n",
    "        \"\"\"\n",
    "        self.X_train = X_train\n",
    "        self.y_train = y_train\n",
    "    \n",
    "    def predict(self,X_test):\n",
    "        \"\"\"\n",
    "        Finde K nearest neighbours  and return the mode of the K labels\n",
    "        \"\"\"\n",
    "        y_result = []\n",
    "        for i in X_test:\n",
    "            class_samples = []\n",
    "            k = 1\n",
    "            sample = self.X_train\n",
    "            while k!=self.k:\n",
    "                min_dist_x = float('inf')\n",
    "                min_index = 0\n",
    "                for index,j in enumerate(sample):\n",
    "                    if(self.metric == 'euclid'):\n",
    "                        potential_min_x = self.euclidian_distance(i,j)\n",
    "                    else:\n",
    "                        potential_min_x = self.mincowski_distance(i,j,self.metric_params)\n",
    "                    if(potential_min_x<min_dist_x):\n",
    "                        min_dist_x = potential_min_x\n",
    "                        min_index = index\n",
    "                sample = np.delete(sample,min_index , 0)\n",
    "                class_samples.append(self.y_train[min_index])\n",
    "                k+=1\n",
    "            y_result.append(max(set(class_samples), key=class_samples.count))\n",
    "        return y_result\n",
    "                        \n",
    "    def score(self,X,y):\n",
    "        \"\"\"\n",
    "        Calculate accuracy score\n",
    "        \"\"\"\n",
    "        acc=np.mean(y==self.predict(X))\n",
    "        print(acc)\n",
    "    "
   ]
  },
  {
   "cell_type": "markdown",
   "metadata": {},
   "source": [
    "### Generate dataset and test results"
   ]
  },
  {
   "cell_type": "code",
   "execution_count": 250,
   "metadata": {},
   "outputs": [],
   "source": [
    "from sklearn import datasets\n"
   ]
  },
  {
   "cell_type": "code",
   "execution_count": 251,
   "metadata": {},
   "outputs": [],
   "source": [
    "iris = datasets.load_iris(return_X_y=True)"
   ]
  },
  {
   "cell_type": "code",
   "execution_count": 252,
   "metadata": {},
   "outputs": [],
   "source": [
    "iris = np.concatenate((iris[0], iris[1].reshape(-1,1)),axis = 1)\n"
   ]
  },
  {
   "cell_type": "code",
   "execution_count": 253,
   "metadata": {},
   "outputs": [],
   "source": [
    "from sklearn.model_selection import train_test_split\n"
   ]
  },
  {
   "cell_type": "code",
   "execution_count": 254,
   "metadata": {},
   "outputs": [],
   "source": [
    "X_train, X_test, y_train, y_test = train_test_split(iris[:,:-1], iris[:,-1], test_size=0.52, random_state=58,shuffle=True)"
   ]
  },
  {
   "cell_type": "code",
   "execution_count": 267,
   "metadata": {},
   "outputs": [],
   "source": [
    "model = KNN_Classifier(k=2)"
   ]
  },
  {
   "cell_type": "code",
   "execution_count": 268,
   "metadata": {},
   "outputs": [],
   "source": [
    "model.fit(X_train,y_train)"
   ]
  },
  {
   "cell_type": "code",
   "execution_count": 269,
   "metadata": {},
   "outputs": [],
   "source": [
    "y_pred = model.predict(X_test)"
   ]
  },
  {
   "cell_type": "code",
   "execution_count": 270,
   "metadata": {},
   "outputs": [
    {
     "name": "stdout",
     "output_type": "stream",
     "text": [
      "0.9743589743589743\n"
     ]
    }
   ],
   "source": [
    "model.score(X_test,y_test)"
   ]
  },
  {
   "cell_type": "code",
   "execution_count": null,
   "metadata": {},
   "outputs": [],
   "source": []
  }
 ],
 "metadata": {
  "kernelspec": {
   "display_name": "Python 3",
   "language": "python",
   "name": "python3"
  },
  "language_info": {
   "codemirror_mode": {
    "name": "ipython",
    "version": 3
   },
   "file_extension": ".py",
   "mimetype": "text/x-python",
   "name": "python",
   "nbconvert_exporter": "python",
   "pygments_lexer": "ipython3",
   "version": "3.7.4"
  }
 },
 "nbformat": 4,
 "nbformat_minor": 2
}
