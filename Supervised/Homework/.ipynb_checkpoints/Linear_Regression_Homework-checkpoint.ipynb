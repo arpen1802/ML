{
 "cells": [
  {
   "cell_type": "markdown",
   "metadata": {},
   "source": [
    "# Linear Regression Implementation"
   ]
  },
  {
   "cell_type": "markdown",
   "metadata": {},
   "source": [
    "In this homework, you need to implement LR algorithm.\n",
    "* Generate data\n",
    "* Implement LinearRegression class methods\n",
    "* Visualize results"
   ]
  },
  {
   "cell_type": "markdown",
   "metadata": {},
   "source": [
    "### Imports"
   ]
  },
  {
   "cell_type": "code",
   "execution_count": 50,
   "metadata": {},
   "outputs": [],
   "source": [
    "import numpy as np \n",
    "import matplotlib.pyplot as plt"
   ]
  },
  {
   "cell_type": "markdown",
   "metadata": {},
   "source": [
    "#### 1. Generate data\n",
    "* Generate 200 points uniform randomly in range [0,1] and assign it to X (keep random seed)\n",
    "* Fix b_0 and b_1\n",
    "* Generate Y line with X, b_0 and b_1\n",
    "* Add random noise from normal distribution, with (0,0.4) (keep random seed)\n",
    "* Plot results\n",
    "* Concatenate ones in X"
   ]
  },
  {
   "cell_type": "code",
   "execution_count": 51,
   "metadata": {},
   "outputs": [],
   "source": [
    "#code here\n",
    "np.random.seed(42)\n",
    "x = np.random.uniform(0,1,200)\n",
    "b_0 = 2\n",
    "b_1 = 8\n",
    "Y = b_0 + b_1*x\n",
    "eps = np.random.normal(0,0.4,200)\n",
    "Y = Y + eps\n",
    "Y = Y.reshape(-1,1)\n"
   ]
  },
  {
   "cell_type": "code",
   "execution_count": 52,
   "metadata": {},
   "outputs": [
    {
     "data": {
      "text/plain": [
       "<matplotlib.collections.PathCollection at 0x7f1a840dddd0>"
      ]
     },
     "execution_count": 52,
     "metadata": {},
     "output_type": "execute_result"
    },
    {
     "data": {
      "image/png": "[encoded data removed]",
      "text/plain": [
       "<Figure size 432x288 with 1 Axes>"
      ]
     },
     "metadata": {
      "needs_background": "light"
     },
     "output_type": "display_data"
    }
   ],
   "source": [
    "plt.scatter(x,Y)"
   ]
  },
  {
   "cell_type": "code",
   "execution_count": 53,
   "metadata": {},
   "outputs": [],
   "source": [
    "x = x.reshape(200,1)\n",
    "x=np.insert(x,0,1,axis=1)\n"
   ]
  },
  {
   "cell_type": "code",
   "execution_count": 54,
   "metadata": {},
   "outputs": [],
   "source": [
    "np.random.seed(46)\n",
    "x_test = np.random.uniform(0,1,200)\n",
    "b_0_test = 3\n",
    "b_1_test = 6\n",
    "Y_test = b_0_test + b_1_test*x_test\n",
    "eps = np.random.normal(0,0.4,200)\n",
    "Y_test = Y_test + eps\n",
    "Y_test = Y_test.reshape(-1,1)"
   ]
  },
  {
   "cell_type": "code",
   "execution_count": 55,
   "metadata": {},
   "outputs": [],
   "source": [
    "x_test = x_test.reshape(200,1)\n",
    "x_test=np.insert(x_test,0,1,axis=1)\n"
   ]
  },
  {
   "cell_type": "markdown",
   "metadata": {},
   "source": [
    "#### Implement main LinearRegression class"
   ]
  },
  {
   "cell_type": "code",
   "execution_count": 56,
   "metadata": {},
   "outputs": [],
   "source": [
    "class LinearRegression:\n",
    "    \"\"\"\n",
    "    Linear Regression Class\n",
    "    You need to implement LR algorithm with 2 different methods(analytical sol. and Gradient Descent)\n",
    "\n",
    "    \"\"\"\n",
    "\n",
    "    def __init__(self):\n",
    "        \"\"\"\n",
    "        Init method\n",
    "        \"\"\"\n",
    "        self.betta = None\n",
    "        self.alpha = None\n",
    "\n",
    "    def fit_least_squares(self, X, Y):\n",
    "        \"\"\"\n",
    "        Main fit method.\n",
    "        Method takes X, Y parameters, find optimal bettas(with analytical solution) and return it\n",
    "        :param X: (np.array,n*p) features\n",
    "        :param Y: (np.array,n*1) target variable\n",
    "        :return: betta (np.array,p*1) \n",
    "        \"\"\"\n",
    "        self.betta =  np.matmul(np.linalg.inv(np.matmul(np.transpose(X),X)),np.matmul(np.transpose(X),Y))\n",
    "        return self.betta\n",
    "         \n",
    "\n",
    "    def fit_gradient_descent(self, X, Y, alpha, delta):\n",
    "        \"\"\"\n",
    "        Fit with gradient descent optimizer\n",
    "        Method takes X, Y and method parameters, find optimal bettas(with gradient descent) and return it\n",
    "        :param X: (np.array,n*p) features\n",
    "        :param Y: (np.array,n*1) target\n",
    "        :param alpha: (float) learning rate\n",
    "        :param delta: (int) threshold for minimum difference between betta_i and betta_i+1\n",
    "        :return: betta (np.array,p*1) \n",
    "        \"\"\"\n",
    "      \n",
    "        beta_n = np.array([0,0]).reshape(-1,1)\n",
    "        grad = (X.T@(X@ beta_n-Y))/len(X)\n",
    "        beta_n_plus_1 = beta_n - alpha*grad\n",
    "        while np.linalg.norm(beta_n_plus_1-beta_n)>delta:\n",
    "            grad = (X.T@(X@ beta_n_plus_1-Y))/len(X)\n",
    "            beta_n = beta_n_plus_1\n",
    "            beta_n_plus_1 = beta_n - alpha*grad\n",
    "        self.betta = beta_n_plus_1\n",
    "        return beta_n_plus_1\n",
    "            \n",
    "        \n",
    "        \n",
    "\n",
    "    def predict(self, X):\n",
    "        \"\"\"\n",
    "        Make prediction with fitted bettas \n",
    "        :param X: (np.array,n*p) features\n",
    "        :return: Y_pred (np.array,n*1) predictions\n",
    "        \"\"\"\n",
    "        Y_pred = np.matmul(X,self.betta)\n",
    "        return Y_pred\n",
    "        \n",
    "\n",
    "    def loss(self, X, Y):\n",
    "        \"\"\"\n",
    "        Method for calculation current loss\n",
    "        Need to implement Mean Square Error Loss\n",
    "        :param X: (np.array,n*p) features\n",
    "        :param Y: (np.array,n*1) target\n",
    "        :return: (float) Mean Squared Error Loss\n",
    "        \"\"\"\n",
    "        los = ((X@self.betta-Y)** 2).sum()/(2*len(X))\n",
    "        return los\n",
    "\n",
    "    def plot_line(self, X, Y):\n",
    "        \"\"\"\n",
    "        Method plots data points and approximated lines for both methods(in one figure)\n",
    "        :return: None \n",
    "        \"\"\"\n",
    "        fig, ax = plt.subplots()\n",
    "        Y_pred = self.predict(X)\n",
    "        X = np.delete(X,0,axis=1)\n",
    "        X = X.reshape(200,1)\n",
    "        ax.scatter(X,Y)\n",
    "        ax.plot(X,Y_pred,color='red')\n",
    "        ax.legend(['Regression Line','Full DataSet'])\n",
    "\n"
   ]
  },
  {
   "cell_type": "code",
   "execution_count": 57,
   "metadata": {},
   "outputs": [
    {
     "data": {
      "image/png": "[encoded data removed]",
      "text/plain": [
       "<Figure size 432x288 with 1 Axes>"
      ]
     },
     "metadata": {
      "needs_background": "light"
     },
     "output_type": "display_data"
    },
    {
     "data": {
      "image/png": "[encoded data removed]",
      "text/plain": [
       "<Figure size 432x288 with 1 Axes>"
      ]
     },
     "metadata": {
      "needs_background": "light"
     },
     "output_type": "display_data"
    }
   ],
   "source": [
    "model1 = LinearRegression()\n",
    "model1.fit_least_squares(x,Y)\n",
    "model1.loss(x_test,Y_test)\n",
    "model1.predict(x_test)\n",
    "model1.plot_line(x_test,Y_test)\n",
    "\n",
    "model2 = LinearRegression()\n",
    "model2.fit_gradient_descent(x,Y,0.1,0.001)\n",
    "model2.loss(x_test,Y_test)\n",
    "model2.predict(x_test)\n",
    "model2.plot_line(x_test,Y_test)\n",
    "\n",
    "\n",
    "\n",
    "\n",
    "\n",
    "\n"
   ]
  }
 ],
 "metadata": {
  "kernelspec": {
   "display_name": "Python 3",
   "language": "python",
   "name": "python3"
  },
  "language_info": {
   "codemirror_mode": {
    "name": "ipython",
    "version": 3
   },
   "file_extension": ".py",
   "mimetype": "text/x-python",
   "name": "python",
   "nbconvert_exporter": "python",
   "pygments_lexer": "ipython3",
   "version": "3.7.4"
  }
 },
 "nbformat": 4,
 "nbformat_minor": 2
}
