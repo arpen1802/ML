{
 "cells": [
  {
   "cell_type": "code",
   "execution_count": 1,
   "metadata": {},
   "outputs": [],
   "source": [
    "from sklearn.svm import SVC\n",
    "from sklearn.model_selection import GridSearchCV"
   ]
  },
  {
   "cell_type": "markdown",
   "metadata": {},
   "source": [
    "Use SVM to classify data from \"SVM_data_dna.csv\" file. Optimize hyperparameters using grid search."
   ]
  },
  {
   "cell_type": "code",
   "execution_count": 2,
   "metadata": {},
   "outputs": [],
   "source": [
    "import pandas as pd"
   ]
  },
  {
   "cell_type": "code",
   "execution_count": 3,
   "metadata": {},
   "outputs": [],
   "source": [
    "data = pd.read_csv('./../../Data/SVM_data_dna.csv')"
   ]
  },
  {
   "cell_type": "code",
   "execution_count": 4,
   "metadata": {},
   "outputs": [
    {
     "data": {
      "text/html": [
       "<div>\n",
       "<style scoped>\n",
       "    .dataframe tbody tr th:only-of-type {\n",
       "        vertical-align: middle;\n",
       "    }\n",
       "\n",
       "    .dataframe tbody tr th {\n",
       "        vertical-align: top;\n",
       "    }\n",
       "\n",
       "    .dataframe thead th {\n",
       "        text-align: right;\n",
       "    }\n",
       "</style>\n",
       "<table border=\"1\" class=\"dataframe\">\n",
       "  <thead>\n",
       "    <tr style=\"text-align: right;\">\n",
       "      <th></th>\n",
       "      <th>Unnamed: 0</th>\n",
       "      <th>0</th>\n",
       "      <th>1</th>\n",
       "      <th>2</th>\n",
       "      <th>3</th>\n",
       "      <th>4</th>\n",
       "      <th>5</th>\n",
       "      <th>6</th>\n",
       "      <th>7</th>\n",
       "      <th>8</th>\n",
       "      <th>...</th>\n",
       "      <th>142</th>\n",
       "      <th>143</th>\n",
       "      <th>144</th>\n",
       "      <th>145</th>\n",
       "      <th>146</th>\n",
       "      <th>147</th>\n",
       "      <th>148</th>\n",
       "      <th>149</th>\n",
       "      <th>150</th>\n",
       "      <th>151</th>\n",
       "    </tr>\n",
       "  </thead>\n",
       "  <tbody>\n",
       "    <tr>\n",
       "      <td>0</td>\n",
       "      <td>0</td>\n",
       "      <td>G</td>\n",
       "      <td>T</td>\n",
       "      <td>C</td>\n",
       "      <td>A</td>\n",
       "      <td>T</td>\n",
       "      <td>G</td>\n",
       "      <td>A</td>\n",
       "      <td>T</td>\n",
       "      <td>C</td>\n",
       "      <td>...</td>\n",
       "      <td>A</td>\n",
       "      <td>T</td>\n",
       "      <td>G</td>\n",
       "      <td>A</td>\n",
       "      <td>A</td>\n",
       "      <td>T</td>\n",
       "      <td>G</td>\n",
       "      <td>C</td>\n",
       "      <td>C</td>\n",
       "      <td>0.0</td>\n",
       "    </tr>\n",
       "    <tr>\n",
       "      <td>1</td>\n",
       "      <td>1</td>\n",
       "      <td>T</td>\n",
       "      <td>C</td>\n",
       "      <td>G</td>\n",
       "      <td>G</td>\n",
       "      <td>A</td>\n",
       "      <td>G</td>\n",
       "      <td>G</td>\n",
       "      <td>A</td>\n",
       "      <td>A</td>\n",
       "      <td>...</td>\n",
       "      <td>T</td>\n",
       "      <td>A</td>\n",
       "      <td>A</td>\n",
       "      <td>A</td>\n",
       "      <td>C</td>\n",
       "      <td>T</td>\n",
       "      <td>T</td>\n",
       "      <td>C</td>\n",
       "      <td>T</td>\n",
       "      <td>1.0</td>\n",
       "    </tr>\n",
       "    <tr>\n",
       "      <td>2</td>\n",
       "      <td>2</td>\n",
       "      <td>G</td>\n",
       "      <td>T</td>\n",
       "      <td>C</td>\n",
       "      <td>A</td>\n",
       "      <td>C</td>\n",
       "      <td>A</td>\n",
       "      <td>T</td>\n",
       "      <td>G</td>\n",
       "      <td>A</td>\n",
       "      <td>...</td>\n",
       "      <td>A</td>\n",
       "      <td>T</td>\n",
       "      <td>A</td>\n",
       "      <td>A</td>\n",
       "      <td>C</td>\n",
       "      <td>A</td>\n",
       "      <td>G</td>\n",
       "      <td>G</td>\n",
       "      <td>C</td>\n",
       "      <td>0.0</td>\n",
       "    </tr>\n",
       "    <tr>\n",
       "      <td>3</td>\n",
       "      <td>3</td>\n",
       "      <td>T</td>\n",
       "      <td>T</td>\n",
       "      <td>T</td>\n",
       "      <td>T</td>\n",
       "      <td>C</td>\n",
       "      <td>A</td>\n",
       "      <td>A</td>\n",
       "      <td>G</td>\n",
       "      <td>C</td>\n",
       "      <td>...</td>\n",
       "      <td>A</td>\n",
       "      <td>A</td>\n",
       "      <td>T</td>\n",
       "      <td>C</td>\n",
       "      <td>C</td>\n",
       "      <td>T</td>\n",
       "      <td>G</td>\n",
       "      <td>A</td>\n",
       "      <td>A</td>\n",
       "      <td>0.0</td>\n",
       "    </tr>\n",
       "    <tr>\n",
       "      <td>4</td>\n",
       "      <td>4</td>\n",
       "      <td>T</td>\n",
       "      <td>T</td>\n",
       "      <td>A</td>\n",
       "      <td>C</td>\n",
       "      <td>A</td>\n",
       "      <td>T</td>\n",
       "      <td>T</td>\n",
       "      <td>C</td>\n",
       "      <td>T</td>\n",
       "      <td>...</td>\n",
       "      <td>T</td>\n",
       "      <td>A</td>\n",
       "      <td>A</td>\n",
       "      <td>G</td>\n",
       "      <td>G</td>\n",
       "      <td>A</td>\n",
       "      <td>A</td>\n",
       "      <td>A</td>\n",
       "      <td>T</td>\n",
       "      <td>1.0</td>\n",
       "    </tr>\n",
       "  </tbody>\n",
       "</table>\n",
       "<p>5 rows × 153 columns</p>\n",
       "</div>"
      ],
      "text/plain": [
       "   Unnamed: 0  0  1  2  3  4  5  6  7  8  ... 142 143 144 145 146 147 148 149  \\\n",
       "0           0  G  T  C  A  T  G  A  T  C  ...   A   T   G   A   A   T   G   C   \n",
       "1           1  T  C  G  G  A  G  G  A  A  ...   T   A   A   A   C   T   T   C   \n",
       "2           2  G  T  C  A  C  A  T  G  A  ...   A   T   A   A   C   A   G   G   \n",
       "3           3  T  T  T  T  C  A  A  G  C  ...   A   A   T   C   C   T   G   A   \n",
       "4           4  T  T  A  C  A  T  T  C  T  ...   T   A   A   G   G   A   A   A   \n",
       "\n",
       "  150  151  \n",
       "0   C  0.0  \n",
       "1   T  1.0  \n",
       "2   C  0.0  \n",
       "3   A  0.0  \n",
       "4   T  1.0  \n",
       "\n",
       "[5 rows x 153 columns]"
      ]
     },
     "execution_count": 4,
     "metadata": {},
     "output_type": "execute_result"
    }
   ],
   "source": [
    "data.head()"
   ]
  },
  {
   "cell_type": "code",
   "execution_count": 5,
   "metadata": {},
   "outputs": [],
   "source": [
    "data.drop('Unnamed: 0',inplace=True,axis = 1)"
   ]
  },
  {
   "cell_type": "code",
   "execution_count": 6,
   "metadata": {
    "scrolled": true
   },
   "outputs": [
    {
     "data": {
      "text/html": [
       "<div>\n",
       "<style scoped>\n",
       "    .dataframe tbody tr th:only-of-type {\n",
       "        vertical-align: middle;\n",
       "    }\n",
       "\n",
       "    .dataframe tbody tr th {\n",
       "        vertical-align: top;\n",
       "    }\n",
       "\n",
       "    .dataframe thead th {\n",
       "        text-align: right;\n",
       "    }\n",
       "</style>\n",
       "<table border=\"1\" class=\"dataframe\">\n",
       "  <thead>\n",
       "    <tr style=\"text-align: right;\">\n",
       "      <th></th>\n",
       "      <th>0</th>\n",
       "      <th>1</th>\n",
       "      <th>2</th>\n",
       "      <th>3</th>\n",
       "      <th>4</th>\n",
       "      <th>5</th>\n",
       "      <th>6</th>\n",
       "      <th>7</th>\n",
       "      <th>8</th>\n",
       "      <th>9</th>\n",
       "      <th>...</th>\n",
       "      <th>142</th>\n",
       "      <th>143</th>\n",
       "      <th>144</th>\n",
       "      <th>145</th>\n",
       "      <th>146</th>\n",
       "      <th>147</th>\n",
       "      <th>148</th>\n",
       "      <th>149</th>\n",
       "      <th>150</th>\n",
       "      <th>151</th>\n",
       "    </tr>\n",
       "  </thead>\n",
       "  <tbody>\n",
       "    <tr>\n",
       "      <td>0</td>\n",
       "      <td>G</td>\n",
       "      <td>T</td>\n",
       "      <td>C</td>\n",
       "      <td>A</td>\n",
       "      <td>T</td>\n",
       "      <td>G</td>\n",
       "      <td>A</td>\n",
       "      <td>T</td>\n",
       "      <td>C</td>\n",
       "      <td>C</td>\n",
       "      <td>...</td>\n",
       "      <td>A</td>\n",
       "      <td>T</td>\n",
       "      <td>G</td>\n",
       "      <td>A</td>\n",
       "      <td>A</td>\n",
       "      <td>T</td>\n",
       "      <td>G</td>\n",
       "      <td>C</td>\n",
       "      <td>C</td>\n",
       "      <td>0.0</td>\n",
       "    </tr>\n",
       "    <tr>\n",
       "      <td>1</td>\n",
       "      <td>T</td>\n",
       "      <td>C</td>\n",
       "      <td>G</td>\n",
       "      <td>G</td>\n",
       "      <td>A</td>\n",
       "      <td>G</td>\n",
       "      <td>G</td>\n",
       "      <td>A</td>\n",
       "      <td>A</td>\n",
       "      <td>C</td>\n",
       "      <td>...</td>\n",
       "      <td>T</td>\n",
       "      <td>A</td>\n",
       "      <td>A</td>\n",
       "      <td>A</td>\n",
       "      <td>C</td>\n",
       "      <td>T</td>\n",
       "      <td>T</td>\n",
       "      <td>C</td>\n",
       "      <td>T</td>\n",
       "      <td>1.0</td>\n",
       "    </tr>\n",
       "    <tr>\n",
       "      <td>2</td>\n",
       "      <td>G</td>\n",
       "      <td>T</td>\n",
       "      <td>C</td>\n",
       "      <td>A</td>\n",
       "      <td>C</td>\n",
       "      <td>A</td>\n",
       "      <td>T</td>\n",
       "      <td>G</td>\n",
       "      <td>A</td>\n",
       "      <td>T</td>\n",
       "      <td>...</td>\n",
       "      <td>A</td>\n",
       "      <td>T</td>\n",
       "      <td>A</td>\n",
       "      <td>A</td>\n",
       "      <td>C</td>\n",
       "      <td>A</td>\n",
       "      <td>G</td>\n",
       "      <td>G</td>\n",
       "      <td>C</td>\n",
       "      <td>0.0</td>\n",
       "    </tr>\n",
       "    <tr>\n",
       "      <td>3</td>\n",
       "      <td>T</td>\n",
       "      <td>T</td>\n",
       "      <td>T</td>\n",
       "      <td>T</td>\n",
       "      <td>C</td>\n",
       "      <td>A</td>\n",
       "      <td>A</td>\n",
       "      <td>G</td>\n",
       "      <td>C</td>\n",
       "      <td>T</td>\n",
       "      <td>...</td>\n",
       "      <td>A</td>\n",
       "      <td>A</td>\n",
       "      <td>T</td>\n",
       "      <td>C</td>\n",
       "      <td>C</td>\n",
       "      <td>T</td>\n",
       "      <td>G</td>\n",
       "      <td>A</td>\n",
       "      <td>A</td>\n",
       "      <td>0.0</td>\n",
       "    </tr>\n",
       "    <tr>\n",
       "      <td>4</td>\n",
       "      <td>T</td>\n",
       "      <td>T</td>\n",
       "      <td>A</td>\n",
       "      <td>C</td>\n",
       "      <td>A</td>\n",
       "      <td>T</td>\n",
       "      <td>T</td>\n",
       "      <td>C</td>\n",
       "      <td>T</td>\n",
       "      <td>T</td>\n",
       "      <td>...</td>\n",
       "      <td>T</td>\n",
       "      <td>A</td>\n",
       "      <td>A</td>\n",
       "      <td>G</td>\n",
       "      <td>G</td>\n",
       "      <td>A</td>\n",
       "      <td>A</td>\n",
       "      <td>A</td>\n",
       "      <td>T</td>\n",
       "      <td>1.0</td>\n",
       "    </tr>\n",
       "  </tbody>\n",
       "</table>\n",
       "<p>5 rows × 152 columns</p>\n",
       "</div>"
      ],
      "text/plain": [
       "   0  1  2  3  4  5  6  7  8  9  ... 142 143 144 145 146 147 148 149 150  151\n",
       "0  G  T  C  A  T  G  A  T  C  C  ...   A   T   G   A   A   T   G   C   C  0.0\n",
       "1  T  C  G  G  A  G  G  A  A  C  ...   T   A   A   A   C   T   T   C   T  1.0\n",
       "2  G  T  C  A  C  A  T  G  A  T  ...   A   T   A   A   C   A   G   G   C  0.0\n",
       "3  T  T  T  T  C  A  A  G  C  T  ...   A   A   T   C   C   T   G   A   A  0.0\n",
       "4  T  T  A  C  A  T  T  C  T  T  ...   T   A   A   G   G   A   A   A   T  1.0\n",
       "\n",
       "[5 rows x 152 columns]"
      ]
     },
     "execution_count": 6,
     "metadata": {},
     "output_type": "execute_result"
    }
   ],
   "source": [
    "data.head()"
   ]
  },
  {
   "cell_type": "code",
   "execution_count": 7,
   "metadata": {},
   "outputs": [],
   "source": [
    "data = data.head(3000)"
   ]
  },
  {
   "cell_type": "code",
   "execution_count": 8,
   "metadata": {},
   "outputs": [],
   "source": [
    "Y = data['151']"
   ]
  },
  {
   "cell_type": "code",
   "execution_count": 9,
   "metadata": {},
   "outputs": [],
   "source": [
    "X = data.drop('151',axis=1)"
   ]
  },
  {
   "cell_type": "code",
   "execution_count": 10,
   "metadata": {},
   "outputs": [],
   "source": [
    "X = pd.get_dummies(X,columns=None,drop_first=True)"
   ]
  },
  {
   "cell_type": "code",
   "execution_count": 12,
   "metadata": {},
   "outputs": [],
   "source": [
    "from sklearn.model_selection import train_test_split"
   ]
  },
  {
   "cell_type": "code",
   "execution_count": 13,
   "metadata": {},
   "outputs": [],
   "source": [
    "X_train, X_test, y_train, y_test = train_test_split(X, Y, test_size=0.33, random_state=42)"
   ]
  },
  {
   "cell_type": "code",
   "execution_count": 14,
   "metadata": {},
   "outputs": [],
   "source": [
    "svr = SVC(gamma='auto')"
   ]
  },
  {
   "cell_type": "code",
   "execution_count": 15,
   "metadata": {},
   "outputs": [
    {
     "data": {
      "text/plain": [
       "SVC(C=1.0, cache_size=200, class_weight=None, coef0=0.0,\n",
       "    decision_function_shape='ovr', degree=3, gamma='auto', kernel='rbf',\n",
       "    max_iter=-1, probability=False, random_state=None, shrinking=True,\n",
       "    tol=0.001, verbose=False)"
      ]
     },
     "execution_count": 15,
     "metadata": {},
     "output_type": "execute_result"
    }
   ],
   "source": [
    "svr.fit(X_train, y_train)"
   ]
  },
  {
   "cell_type": "code",
   "execution_count": 16,
   "metadata": {},
   "outputs": [
    {
     "data": {
      "text/plain": [
       "0.7691542288557214"
      ]
     },
     "execution_count": 16,
     "metadata": {},
     "output_type": "execute_result"
    }
   ],
   "source": [
    "svr.score(X_train,y_train)"
   ]
  },
  {
   "cell_type": "code",
   "execution_count": 17,
   "metadata": {},
   "outputs": [
    {
     "data": {
      "text/plain": [
       "0.6525252525252525"
      ]
     },
     "execution_count": 17,
     "metadata": {},
     "output_type": "execute_result"
    }
   ],
   "source": [
    "svr.score(X_test,y_test)"
   ]
  },
  {
   "cell_type": "code",
   "execution_count": 18,
   "metadata": {},
   "outputs": [],
   "source": [
    "parameters = {'kernel':('linear', 'rbf'), 'C':[1, 3]}"
   ]
  },
  {
   "cell_type": "code",
   "execution_count": 19,
   "metadata": {},
   "outputs": [],
   "source": [
    "clf = GridSearchCV(svr, parameters)"
   ]
  },
  {
   "cell_type": "code",
   "execution_count": 20,
   "metadata": {},
   "outputs": [
    {
     "data": {
      "text/plain": [
       "{'cv': 'warn',\n",
       " 'error_score': 'raise-deprecating',\n",
       " 'estimator__C': 1.0,\n",
       " 'estimator__cache_size': 200,\n",
       " 'estimator__class_weight': None,\n",
       " 'estimator__coef0': 0.0,\n",
       " 'estimator__decision_function_shape': 'ovr',\n",
       " 'estimator__degree': 3,\n",
       " 'estimator__gamma': 'auto',\n",
       " 'estimator__kernel': 'rbf',\n",
       " 'estimator__max_iter': -1,\n",
       " 'estimator__probability': False,\n",
       " 'estimator__random_state': None,\n",
       " 'estimator__shrinking': True,\n",
       " 'estimator__tol': 0.001,\n",
       " 'estimator__verbose': False,\n",
       " 'estimator': SVC(C=1.0, cache_size=200, class_weight=None, coef0=0.0,\n",
       "     decision_function_shape='ovr', degree=3, gamma='auto', kernel='rbf',\n",
       "     max_iter=-1, probability=False, random_state=None, shrinking=True,\n",
       "     tol=0.001, verbose=False),\n",
       " 'iid': 'warn',\n",
       " 'n_jobs': None,\n",
       " 'param_grid': {'kernel': ('linear', 'rbf'), 'C': [1, 3]},\n",
       " 'pre_dispatch': '2*n_jobs',\n",
       " 'refit': True,\n",
       " 'return_train_score': False,\n",
       " 'scoring': None,\n",
       " 'verbose': 0}"
      ]
     },
     "execution_count": 20,
     "metadata": {},
     "output_type": "execute_result"
    }
   ],
   "source": [
    "clf.get_params()"
   ]
  },
  {
   "cell_type": "code",
   "execution_count": 92,
   "metadata": {
    "scrolled": false
   },
   "outputs": [
    {
     "name": "stderr",
     "output_type": "stream",
     "text": [
      "/home/levon/anaconda3/lib/python3.7/site-packages/sklearn/model_selection/_split.py:1978: FutureWarning: The default value of cv will change from 3 to 5 in version 0.22. Specify it explicitly to silence this warning.\n",
      "  warnings.warn(CV_WARNING, FutureWarning)\n"
     ]
    },
    {
     "data": {
      "text/plain": [
       "GridSearchCV(cv='warn', error_score='raise-deprecating',\n",
       "             estimator=SVC(C=1.0, cache_size=200, class_weight=None, coef0=0.0,\n",
       "                           decision_function_shape='ovr', degree=3,\n",
       "                           gamma='auto', kernel='rbf', max_iter=-1,\n",
       "                           probability=False, random_state=None, shrinking=True,\n",
       "                           tol=0.001, verbose=False),\n",
       "             iid='warn', n_jobs=None,\n",
       "             param_grid={'C': [1, 3], 'kernel': ('linear', 'rbf')},\n",
       "             pre_dispatch='2*n_jobs', refit=True, return_train_score=False,\n",
       "             scoring=None, verbose=0)"
      ]
     },
     "execution_count": 92,
     "metadata": {},
     "output_type": "execute_result"
    }
   ],
   "source": [
    "clf.fit(X_train, y_train)"
   ]
  },
  {
   "cell_type": "code",
   "execution_count": 93,
   "metadata": {},
   "outputs": [
    {
     "data": {
      "text/plain": [
       "0.7830845771144279"
      ]
     },
     "execution_count": 93,
     "metadata": {},
     "output_type": "execute_result"
    }
   ],
   "source": [
    "clf.score(X_train,y_train)"
   ]
  },
  {
   "cell_type": "code",
   "execution_count": 20,
   "metadata": {},
   "outputs": [
    {
     "data": {
      "text/plain": [
       "0.6494949494949495"
      ]
     },
     "execution_count": 20,
     "metadata": {},
     "output_type": "execute_result"
    }
   ],
   "source": [
    "clf.score(X_test,y_test)"
   ]
  },
  {
   "cell_type": "markdown",
   "metadata": {},
   "source": [
    "# Count vectorizer "
   ]
  },
  {
   "cell_type": "code",
   "execution_count": 21,
   "metadata": {},
   "outputs": [],
   "source": [
    "from sklearn.feature_extraction.text import CountVectorizer"
   ]
  },
  {
   "cell_type": "code",
   "execution_count": 22,
   "metadata": {},
   "outputs": [],
   "source": [
    "data_test = data.drop('151',axis=1)"
   ]
  },
  {
   "cell_type": "code",
   "execution_count": 26,
   "metadata": {},
   "outputs": [],
   "source": [
    "text = [''.join(data_test.loc[i].values) for i in range(data_test.shape[0])]"
   ]
  },
  {
   "cell_type": "code",
   "execution_count": 27,
   "metadata": {},
   "outputs": [
    {
     "data": {
      "text/plain": [
       "'GTCATGATCCTTTCGGCGATTATGAGAAACCCATCCATTCCTTTAAAAGACATTCAATTAAGCGAAAAAGTAAACAAAAGTAAACATCTCGCAAGCACAATCAAATTGGATTTCTAATCACAGGGGCAGCGGCTGTCCCGGCATGAATGCC'"
      ]
     },
     "execution_count": 27,
     "metadata": {},
     "output_type": "execute_result"
    }
   ],
   "source": [
    "text[0]"
   ]
  },
  {
   "cell_type": "code",
   "execution_count": 28,
   "metadata": {},
   "outputs": [],
   "source": [
    "from sklearn.feature_extraction.text import CountVectorizer\n",
    "from sklearn.feature_extraction.text import TfidfVectorizer\n",
    "\n",
    "import numpy as np\n",
    "\n",
    "def tokenizer(s):\n",
    "    width = 1\n",
    "    return [s[i:i+width] for i in range(len(s)-width+1)]\n",
    "\n",
    "def count_chunks(sequence_list):\n",
    "    vectorizer = CountVectorizer(tokenizer=tokenizer,ngram_range=(1, 4))\n",
    "    X = vectorizer.fit_transform(sequence_list)\n",
    "    #     counts = (X.toarray()>0).astype(int).sum(axis=0)\n",
    "    counts  = X.toarray()\n",
    "    return vectorizer.get_feature_names(), counts\n",
    "def count_chunks_tfidf(sequence_list):\n",
    "    vectorizer = TfidfVectorizer(tokenizer=tokenizer,ngram_range=(1, 4))\n",
    "    X = vectorizer.fit_transform(sequence_list)\n",
    "    #     counts = (X.toarray()>0).astype(int).sum(axis=0)\n",
    "    counts  = X.toarray()\n",
    "    return vectorizer.get_feature_names(), counts"
   ]
  },
  {
   "cell_type": "code",
   "execution_count": 29,
   "metadata": {},
   "outputs": [],
   "source": [
    "down_names, down_counts = count_chunks(text)\n",
    "# not_down_names, not_down_counts = count_chunks(not_down_list)"
   ]
  },
  {
   "cell_type": "code",
   "execution_count": 30,
   "metadata": {
    "scrolled": true
   },
   "outputs": [
    {
     "data": {
      "text/plain": [
       "array([[53, 24, 11, ...,  2,  0,  0],\n",
       "       [47, 19,  7, ...,  2,  1,  1],\n",
       "       [47, 18,  9, ...,  1,  1,  2],\n",
       "       ...,\n",
       "       [58, 27, 12, ...,  1,  1,  1],\n",
       "       [48, 14,  2, ...,  0,  0,  2],\n",
       "       [40, 15,  6, ...,  0,  0,  0]])"
      ]
     },
     "execution_count": 30,
     "metadata": {},
     "output_type": "execute_result"
    }
   ],
   "source": [
    "down_counts"
   ]
  },
  {
   "cell_type": "code",
   "execution_count": 31,
   "metadata": {},
   "outputs": [
    {
     "data": {
      "text/plain": [
       "['a',\n",
       " 'a a',\n",
       " 'a a a',\n",
       " 'a a a a',\n",
       " 'a a a c',\n",
       " 'a a a g',\n",
       " 'a a a t',\n",
       " 'a a c',\n",
       " 'a a c a',\n",
       " 'a a c c',\n",
       " 'a a c g',\n",
       " 'a a c t',\n",
       " 'a a g',\n",
       " 'a a g a',\n",
       " 'a a g c',\n",
       " 'a a g g',\n",
       " 'a a g t',\n",
       " 'a a t',\n",
       " 'a a t a',\n",
       " 'a a t c',\n",
       " 'a a t g',\n",
       " 'a a t t',\n",
       " 'a c',\n",
       " 'a c a',\n",
       " 'a c a a',\n",
       " 'a c a c',\n",
       " 'a c a g',\n",
       " 'a c a t',\n",
       " 'a c c',\n",
       " 'a c c a',\n",
       " 'a c c c',\n",
       " 'a c c g',\n",
       " 'a c c t',\n",
       " 'a c g',\n",
       " 'a c g a',\n",
       " 'a c g c',\n",
       " 'a c g g',\n",
       " 'a c g t',\n",
       " 'a c t',\n",
       " 'a c t a',\n",
       " 'a c t c',\n",
       " 'a c t g',\n",
       " 'a c t t',\n",
       " 'a g',\n",
       " 'a g a',\n",
       " 'a g a a',\n",
       " 'a g a c',\n",
       " 'a g a g',\n",
       " 'a g a t',\n",
       " 'a g c',\n",
       " 'a g c a',\n",
       " 'a g c c',\n",
       " 'a g c g',\n",
       " 'a g c t',\n",
       " 'a g g',\n",
       " 'a g g a',\n",
       " 'a g g c',\n",
       " 'a g g g',\n",
       " 'a g g t',\n",
       " 'a g t',\n",
       " 'a g t a',\n",
       " 'a g t c',\n",
       " 'a g t g',\n",
       " 'a g t t',\n",
       " 'a t',\n",
       " 'a t a',\n",
       " 'a t a a',\n",
       " 'a t a c',\n",
       " 'a t a g',\n",
       " 'a t a t',\n",
       " 'a t c',\n",
       " 'a t c a',\n",
       " 'a t c c',\n",
       " 'a t c g',\n",
       " 'a t c t',\n",
       " 'a t g',\n",
       " 'a t g a',\n",
       " 'a t g c',\n",
       " 'a t g g',\n",
       " 'a t g t',\n",
       " 'a t t',\n",
       " 'a t t a',\n",
       " 'a t t c',\n",
       " 'a t t g',\n",
       " 'a t t t',\n",
       " 'c',\n",
       " 'c a',\n",
       " 'c a a',\n",
       " 'c a a a',\n",
       " 'c a a c',\n",
       " 'c a a g',\n",
       " 'c a a t',\n",
       " 'c a c',\n",
       " 'c a c a',\n",
       " 'c a c c',\n",
       " 'c a c g',\n",
       " 'c a c t',\n",
       " 'c a g',\n",
       " 'c a g a',\n",
       " 'c a g c',\n",
       " 'c a g g',\n",
       " 'c a g t',\n",
       " 'c a t',\n",
       " 'c a t a',\n",
       " 'c a t c',\n",
       " 'c a t g',\n",
       " 'c a t t',\n",
       " 'c c',\n",
       " 'c c a',\n",
       " 'c c a a',\n",
       " 'c c a c',\n",
       " 'c c a g',\n",
       " 'c c a t',\n",
       " 'c c c',\n",
       " 'c c c a',\n",
       " 'c c c c',\n",
       " 'c c c g',\n",
       " 'c c c t',\n",
       " 'c c g',\n",
       " 'c c g a',\n",
       " 'c c g c',\n",
       " 'c c g g',\n",
       " 'c c g t',\n",
       " 'c c t',\n",
       " 'c c t a',\n",
       " 'c c t c',\n",
       " 'c c t g',\n",
       " 'c c t t',\n",
       " 'c g',\n",
       " 'c g a',\n",
       " 'c g a a',\n",
       " 'c g a c',\n",
       " 'c g a g',\n",
       " 'c g a t',\n",
       " 'c g c',\n",
       " 'c g c a',\n",
       " 'c g c c',\n",
       " 'c g c g',\n",
       " 'c g c t',\n",
       " 'c g g',\n",
       " 'c g g a',\n",
       " 'c g g c',\n",
       " 'c g g g',\n",
       " 'c g g t',\n",
       " 'c g t',\n",
       " 'c g t a',\n",
       " 'c g t c',\n",
       " 'c g t g',\n",
       " 'c g t t',\n",
       " 'c t',\n",
       " 'c t a',\n",
       " 'c t a a',\n",
       " 'c t a c',\n",
       " 'c t a g',\n",
       " 'c t a t',\n",
       " 'c t c',\n",
       " 'c t c a',\n",
       " 'c t c c',\n",
       " 'c t c g',\n",
       " 'c t c t',\n",
       " 'c t g',\n",
       " 'c t g a',\n",
       " 'c t g c',\n",
       " 'c t g g',\n",
       " 'c t g t',\n",
       " 'c t t',\n",
       " 'c t t a',\n",
       " 'c t t c',\n",
       " 'c t t g',\n",
       " 'c t t t',\n",
       " 'g',\n",
       " 'g a',\n",
       " 'g a a',\n",
       " 'g a a a',\n",
       " 'g a a c',\n",
       " 'g a a g',\n",
       " 'g a a t',\n",
       " 'g a c',\n",
       " 'g a c a',\n",
       " 'g a c c',\n",
       " 'g a c g',\n",
       " 'g a c t',\n",
       " 'g a g',\n",
       " 'g a g a',\n",
       " 'g a g c',\n",
       " 'g a g g',\n",
       " 'g a g t',\n",
       " 'g a t',\n",
       " 'g a t a',\n",
       " 'g a t c',\n",
       " 'g a t g',\n",
       " 'g a t t',\n",
       " 'g c',\n",
       " 'g c a',\n",
       " 'g c a a',\n",
       " 'g c a c',\n",
       " 'g c a g',\n",
       " 'g c a t',\n",
       " 'g c c',\n",
       " 'g c c a',\n",
       " 'g c c c',\n",
       " 'g c c g',\n",
       " 'g c c t',\n",
       " 'g c g',\n",
       " 'g c g a',\n",
       " 'g c g c',\n",
       " 'g c g g',\n",
       " 'g c g t',\n",
       " 'g c t',\n",
       " 'g c t a',\n",
       " 'g c t c',\n",
       " 'g c t g',\n",
       " 'g c t t',\n",
       " 'g g',\n",
       " 'g g a',\n",
       " 'g g a a',\n",
       " 'g g a c',\n",
       " 'g g a g',\n",
       " 'g g a t',\n",
       " 'g g c',\n",
       " 'g g c a',\n",
       " 'g g c c',\n",
       " 'g g c g',\n",
       " 'g g c t',\n",
       " 'g g g',\n",
       " 'g g g a',\n",
       " 'g g g c',\n",
       " 'g g g g',\n",
       " 'g g g t',\n",
       " 'g g t',\n",
       " 'g g t a',\n",
       " 'g g t c',\n",
       " 'g g t g',\n",
       " 'g g t t',\n",
       " 'g t',\n",
       " 'g t a',\n",
       " 'g t a a',\n",
       " 'g t a c',\n",
       " 'g t a g',\n",
       " 'g t a t',\n",
       " 'g t c',\n",
       " 'g t c a',\n",
       " 'g t c c',\n",
       " 'g t c g',\n",
       " 'g t c t',\n",
       " 'g t g',\n",
       " 'g t g a',\n",
       " 'g t g c',\n",
       " 'g t g g',\n",
       " 'g t g t',\n",
       " 'g t t',\n",
       " 'g t t a',\n",
       " 'g t t c',\n",
       " 'g t t g',\n",
       " 'g t t t',\n",
       " 't',\n",
       " 't a',\n",
       " 't a a',\n",
       " 't a a a',\n",
       " 't a a c',\n",
       " 't a a g',\n",
       " 't a a t',\n",
       " 't a c',\n",
       " 't a c a',\n",
       " 't a c c',\n",
       " 't a c g',\n",
       " 't a c t',\n",
       " 't a g',\n",
       " 't a g a',\n",
       " 't a g c',\n",
       " 't a g g',\n",
       " 't a g t',\n",
       " 't a t',\n",
       " 't a t a',\n",
       " 't a t c',\n",
       " 't a t g',\n",
       " 't a t t',\n",
       " 't c',\n",
       " 't c a',\n",
       " 't c a a',\n",
       " 't c a c',\n",
       " 't c a g',\n",
       " 't c a t',\n",
       " 't c c',\n",
       " 't c c a',\n",
       " 't c c c',\n",
       " 't c c g',\n",
       " 't c c t',\n",
       " 't c g',\n",
       " 't c g a',\n",
       " 't c g c',\n",
       " 't c g g',\n",
       " 't c g t',\n",
       " 't c t',\n",
       " 't c t a',\n",
       " 't c t c',\n",
       " 't c t g',\n",
       " 't c t t',\n",
       " 't g',\n",
       " 't g a',\n",
       " 't g a a',\n",
       " 't g a c',\n",
       " 't g a g',\n",
       " 't g a t',\n",
       " 't g c',\n",
       " 't g c a',\n",
       " 't g c c',\n",
       " 't g c g',\n",
       " 't g c t',\n",
       " 't g g',\n",
       " 't g g a',\n",
       " 't g g c',\n",
       " 't g g g',\n",
       " 't g g t',\n",
       " 't g t',\n",
       " 't g t a',\n",
       " 't g t c',\n",
       " 't g t g',\n",
       " 't g t t',\n",
       " 't t',\n",
       " 't t a',\n",
       " 't t a a',\n",
       " 't t a c',\n",
       " 't t a g',\n",
       " 't t a t',\n",
       " 't t c',\n",
       " 't t c a',\n",
       " 't t c c',\n",
       " 't t c g',\n",
       " 't t c t',\n",
       " 't t g',\n",
       " 't t g a',\n",
       " 't t g c',\n",
       " 't t g g',\n",
       " 't t g t',\n",
       " 't t t',\n",
       " 't t t a',\n",
       " 't t t c',\n",
       " 't t t g',\n",
       " 't t t t']"
      ]
     },
     "execution_count": 31,
     "metadata": {},
     "output_type": "execute_result"
    }
   ],
   "source": [
    "down_names"
   ]
  },
  {
   "cell_type": "code",
   "execution_count": 32,
   "metadata": {},
   "outputs": [
    {
     "data": {
      "text/plain": [
       "array([[24, 11,  4, ...,  2,  0,  0],\n",
       "       [19,  7,  3, ...,  2,  1,  1],\n",
       "       [18,  9,  5, ...,  1,  1,  2],\n",
       "       ...,\n",
       "       [27, 12,  5, ...,  1,  1,  1],\n",
       "       [14,  2,  0, ...,  0,  0,  2],\n",
       "       [15,  6,  0, ...,  0,  0,  0]])"
      ]
     },
     "execution_count": 32,
     "metadata": {},
     "output_type": "execute_result"
    }
   ],
   "source": [
    "down_counts[:,1:]"
   ]
  },
  {
   "cell_type": "code",
   "execution_count": 33,
   "metadata": {},
   "outputs": [],
   "source": [
    "X_train, X_test, y_train, y_test = train_test_split(down_counts[:,1:], data['151'].head(3000), test_size=0.33, random_state=42)"
   ]
  },
  {
   "cell_type": "code",
   "execution_count": 34,
   "metadata": {
    "scrolled": true
   },
   "outputs": [
    {
     "name": "stderr",
     "output_type": "stream",
     "text": [
      "/home/levon/anaconda3/lib/python3.7/site-packages/sklearn/model_selection/_split.py:1978: FutureWarning: The default value of cv will change from 3 to 5 in version 0.22. Specify it explicitly to silence this warning.\n",
      "  warnings.warn(CV_WARNING, FutureWarning)\n"
     ]
    },
    {
     "data": {
      "text/plain": [
       "GridSearchCV(cv='warn', error_score='raise-deprecating',\n",
       "             estimator=SVC(C=1.0, cache_size=200, class_weight=None, coef0=0.0,\n",
       "                           decision_function_shape='ovr', degree=3,\n",
       "                           gamma='auto', kernel='rbf', max_iter=-1,\n",
       "                           probability=False, random_state=None, shrinking=True,\n",
       "                           tol=0.001, verbose=False),\n",
       "             iid='warn', n_jobs=None,\n",
       "             param_grid={'C': [1, 3], 'kernel': ('linear', 'rbf')},\n",
       "             pre_dispatch='2*n_jobs', refit=True, return_train_score=False,\n",
       "             scoring=None, verbose=0)"
      ]
     },
     "execution_count": 34,
     "metadata": {},
     "output_type": "execute_result"
    }
   ],
   "source": [
    "clf.fit(X_train, y_train)"
   ]
  },
  {
   "cell_type": "code",
   "execution_count": 35,
   "metadata": {},
   "outputs": [
    {
     "data": {
      "text/plain": [
       "1.0"
      ]
     },
     "execution_count": 35,
     "metadata": {},
     "output_type": "execute_result"
    }
   ],
   "source": [
    "clf.score(X_train,y_train)"
   ]
  },
  {
   "cell_type": "code",
   "execution_count": 36,
   "metadata": {},
   "outputs": [
    {
     "data": {
      "text/plain": [
       "0.9767676767676767"
      ]
     },
     "execution_count": 36,
     "metadata": {},
     "output_type": "execute_result"
    }
   ],
   "source": [
    "clf.score(X_test,y_test)"
   ]
  },
  {
   "cell_type": "markdown",
   "metadata": {},
   "source": [
    "#TfidfVectorizer"
   ]
  },
  {
   "cell_type": "code",
   "execution_count": 128,
   "metadata": {},
   "outputs": [],
   "source": [
    "down_names, down_counts = count_chunks_tfidf(text)"
   ]
  },
  {
   "cell_type": "code",
   "execution_count": 37,
   "metadata": {},
   "outputs": [],
   "source": [
    "X_train, X_test, y_train, y_test = train_test_split(down_counts[:,1:], data['151'].head(3000), test_size=0.33, random_state=42)"
   ]
  },
  {
   "cell_type": "code",
   "execution_count": 38,
   "metadata": {},
   "outputs": [
    {
     "name": "stderr",
     "output_type": "stream",
     "text": [
      "/home/levon/anaconda3/lib/python3.7/site-packages/sklearn/model_selection/_split.py:1978: FutureWarning: The default value of cv will change from 3 to 5 in version 0.22. Specify it explicitly to silence this warning.\n",
      "  warnings.warn(CV_WARNING, FutureWarning)\n"
     ]
    },
    {
     "data": {
      "text/plain": [
       "GridSearchCV(cv='warn', error_score='raise-deprecating',\n",
       "             estimator=SVC(C=1.0, cache_size=200, class_weight=None, coef0=0.0,\n",
       "                           decision_function_shape='ovr', degree=3,\n",
       "                           gamma='auto', kernel='rbf', max_iter=-1,\n",
       "                           probability=False, random_state=None, shrinking=True,\n",
       "                           tol=0.001, verbose=False),\n",
       "             iid='warn', n_jobs=None,\n",
       "             param_grid={'C': [1, 3], 'kernel': ('linear', 'rbf')},\n",
       "             pre_dispatch='2*n_jobs', refit=True, return_train_score=False,\n",
       "             scoring=None, verbose=0)"
      ]
     },
     "execution_count": 38,
     "metadata": {},
     "output_type": "execute_result"
    }
   ],
   "source": [
    "clf.fit(X_train, y_train)"
   ]
  },
  {
   "cell_type": "code",
   "execution_count": 39,
   "metadata": {},
   "outputs": [
    {
     "data": {
      "text/plain": [
       "0.9767676767676767"
      ]
     },
     "execution_count": 39,
     "metadata": {},
     "output_type": "execute_result"
    }
   ],
   "source": [
    "clf.score(X_test,y_test)"
   ]
  },
  {
   "cell_type": "code",
   "execution_count": 40,
   "metadata": {},
   "outputs": [],
   "source": [
    "clf = GridSearchCV(svr, parameters)"
   ]
  },
  {
   "cell_type": "code",
   "execution_count": 41,
   "metadata": {
    "scrolled": false
   },
   "outputs": [
    {
     "name": "stderr",
     "output_type": "stream",
     "text": [
      "/home/levon/anaconda3/lib/python3.7/site-packages/sklearn/model_selection/_split.py:1978: FutureWarning: The default value of cv will change from 3 to 5 in version 0.22. Specify it explicitly to silence this warning.\n",
      "  warnings.warn(CV_WARNING, FutureWarning)\n"
     ]
    },
    {
     "data": {
      "text/plain": [
       "GridSearchCV(cv='warn', error_score='raise-deprecating',\n",
       "             estimator=SVC(C=1.0, cache_size=200, class_weight=None, coef0=0.0,\n",
       "                           decision_function_shape='ovr', degree=3,\n",
       "                           gamma='auto', kernel='rbf', max_iter=-1,\n",
       "                           probability=False, random_state=None, shrinking=True,\n",
       "                           tol=0.001, verbose=False),\n",
       "             iid='warn', n_jobs=None,\n",
       "             param_grid={'C': [1, 3], 'kernel': ('linear', 'rbf')},\n",
       "             pre_dispatch='2*n_jobs', refit=True, return_train_score=False,\n",
       "             scoring=None, verbose=0)"
      ]
     },
     "execution_count": 41,
     "metadata": {},
     "output_type": "execute_result"
    }
   ],
   "source": [
    "clf.fit(X_train, y_train)"
   ]
  },
  {
   "cell_type": "code",
   "execution_count": 42,
   "metadata": {},
   "outputs": [
    {
     "data": {
      "text/plain": [
       "1.0"
      ]
     },
     "execution_count": 42,
     "metadata": {},
     "output_type": "execute_result"
    }
   ],
   "source": [
    "clf.score(X_train,y_train)"
   ]
  },
  {
   "cell_type": "code",
   "execution_count": 43,
   "metadata": {},
   "outputs": [
    {
     "data": {
      "text/plain": [
       "0.9767676767676767"
      ]
     },
     "execution_count": 43,
     "metadata": {},
     "output_type": "execute_result"
    }
   ],
   "source": [
    "clf.score(X_test,y_test)"
   ]
  },
  {
   "cell_type": "markdown",
   "metadata": {},
   "source": [
    "# I have took only the part of the data so the accuracy isn't so high, but as we see using countizers, or using our data rows as sentences and counting the number of each letter in it, and then using the data of numbers, we can some how fit our model occurding only numbers. In some sense it made accuracy better."
   ]
  }
 ],
 "metadata": {
  "kernelspec": {
   "display_name": "Python 3",
   "language": "python",
   "name": "python3"
  },
  "language_info": {
   "codemirror_mode": {
    "name": "ipython",
    "version": 3
   },
   "file_extension": ".py",
   "mimetype": "text/x-python",
   "name": "python",
   "nbconvert_exporter": "python",
   "pygments_lexer": "ipython3",
   "version": "3.7.4"
  }
 },
 "nbformat": 4,
 "nbformat_minor": 2
}
