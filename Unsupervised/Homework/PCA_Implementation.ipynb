{
 "cells": [
  {
   "cell_type": "code",
   "execution_count": 101,
   "metadata": {},
   "outputs": [],
   "source": [
    "import numpy as np\n",
    "import matplotlib.pyplot as plt\n",
    "from sklearn import preprocessing"
   ]
  },
  {
   "cell_type": "code",
   "execution_count": 102,
   "metadata": {},
   "outputs": [],
   "source": [
    "from mnist import MNIST"
   ]
  },
  {
   "cell_type": "code",
   "execution_count": 103,
   "metadata": {},
   "outputs": [],
   "source": [
    "class PCA:\n",
    "    def __init__(self, k):\n",
    "        self.k = k\n",
    "        self.mean = None\n",
    "        self.matrix = None\n",
    "        self.values = None\n",
    "\n",
    "    def fit(self, data):\n",
    "        \"\"\"\n",
    "        performs SVD to get the transformation matrix\n",
    "        \"\"\"\n",
    "        self.mean = np.mean(data)\n",
    "        data = data - self.mean\n",
    "        S = np.cov(data.T)\n",
    "        u,s,vh = np.linalg.svd(S)\n",
    "        self.values = s\n",
    "        self.matrix = u[:,:self.k]      \n",
    "    def transform(self, data):\n",
    "        \"\"\"\n",
    "        projects data to lower dimensional space\n",
    "        \"\"\"\n",
    "        data = data - self.mean\n",
    "        Y = np.dot(data,self.matrix)  \n",
    "        return Y\n",
    "    def inverse_transform(self, data_transformed):\n",
    "        \"\"\"\n",
    "        reconstructs the data\n",
    "        \"\"\"\n",
    "        data_transformed = data_transformed + self.mean\n",
    "        Y =  np.dot(data_transformed,self.matrix.T)\n",
    "        return Y\n",
    "        \n"
   ]
  },
  {
   "cell_type": "code",
   "execution_count": 104,
   "metadata": {
    "scrolled": true
   },
   "outputs": [
    {
     "data": {
      "image/png": "[encoded data removed]",
      "text/plain": [
       "<Figure size 1080x1440 with 5 Axes>"
      ]
     },
     "metadata": {
      "needs_background": "light"
     },
     "output_type": "display_data"
    }
   ],
   "source": [
    "mndata = MNIST('../Data/')\n",
    "images, labels = mndata.load_training()\n",
    "images = np.array(images,dtype=float)\n",
    "model = PCA(1)\n",
    "model.fit(images)\n",
    "X_tr = model.transform(images)\n",
    "X_inv = model.inverse_transform(X_tr)\n",
    "\n",
    "# TODO: Fit PCA with 5 components\n",
    "\n",
    "\n",
    "# TODO: Plot each component in subplots (name subplots with ccomponent number)\n",
    "\n",
    "\n",
    "# TODO: Save the plot with name \"MNIST_Components_Yourname\"\n",
    "n_comps = [1, 2, 3, 4, 5]\n",
    "fig, axes = plt.subplots(nrows=1, ncols=5, figsize=(15,20))\n",
    "for ax,i,n_comp in zip(axes.flatten(),range(len(n_comps)), n_comps):\n",
    "    model = PCA(n_comp)\n",
    "    model.fit(images)\n",
    "    X_tr = model.transform(images)\n",
    "    X_inv = model.inverse_transform(X_tr)\n",
    "    ax.imshow(X_inv[0].reshape((28, 28)),cmap='gray')\n",
    "    ax.set_title(\"{} components\".format(n_comp))\n",
    "plt.savefig('MNIST_Components_Yourname.png')\n"
   ]
  },
  {
   "cell_type": "code",
   "execution_count": 105,
   "metadata": {},
   "outputs": [],
   "source": [
    "# TODO: Generate data with some linear correlations and check the performance of your algorithm\n",
    "test = np.random.rand(1000,10)\n"
   ]
  },
  {
   "cell_type": "code",
   "execution_count": 106,
   "metadata": {},
   "outputs": [],
   "source": [
    "model2 = PCA(10)\n",
    "model2.fit(test)\n",
    "X_tr = model2.transform(test)\n",
    "X_inv = model2.inverse_transform(X_tr)"
   ]
  },
  {
   "cell_type": "code",
   "execution_count": 107,
   "metadata": {},
   "outputs": [
    {
     "name": "stdout",
     "output_type": "stream",
     "text": [
      "0.9156335407512348\n"
     ]
    }
   ],
   "source": [
    "explained_variance = np.sum(model2.values[0:9]/np.sum(model2.values))\n",
    "print(explained_variance)"
   ]
  },
  {
   "cell_type": "code",
   "execution_count": 108,
   "metadata": {},
   "outputs": [
    {
     "name": "stdout",
     "output_type": "stream",
     "text": [
      "0.9999999999999998\n"
     ]
    }
   ],
   "source": [
    "explained_variance = np.sum(model2.values[0:10]/np.sum(model2.values))\n",
    "print(explained_variance)"
   ]
  },
  {
   "cell_type": "markdown",
   "metadata": {},
   "source": [
    "# This shows that our random data columns are independent and only taking full number of features we can full explain the data"
   ]
  },
  {
   "cell_type": "code",
   "execution_count": 109,
   "metadata": {},
   "outputs": [],
   "source": [
    "test2 = 2 *test"
   ]
  },
  {
   "cell_type": "code",
   "execution_count": 110,
   "metadata": {},
   "outputs": [],
   "source": [
    "test2 =  np.concatenate((test2, test), axis=1)"
   ]
  },
  {
   "cell_type": "code",
   "execution_count": 111,
   "metadata": {},
   "outputs": [
    {
     "data": {
      "text/plain": [
       "(1000, 20)"
      ]
     },
     "execution_count": 111,
     "metadata": {},
     "output_type": "execute_result"
    }
   ],
   "source": [
    "test2.shape"
   ]
  },
  {
   "cell_type": "code",
   "execution_count": 112,
   "metadata": {},
   "outputs": [],
   "source": [
    "model3 = PCA(10)\n",
    "model3.fit(test2)\n",
    "X_tr = model3.transform(test2)\n",
    "X_inv = model3.inverse_transform(X_tr)"
   ]
  },
  {
   "cell_type": "code",
   "execution_count": 113,
   "metadata": {},
   "outputs": [
    {
     "name": "stdout",
     "output_type": "stream",
     "text": [
      "0.9999999999999999\n"
     ]
    }
   ],
   "source": [
    "explained_variance = np.sum(model3.values[0:10]/np.sum(model3.values))\n",
    "print(explained_variance)"
   ]
  },
  {
   "cell_type": "markdown",
   "metadata": {},
   "source": [
    "# As we see, if the half of the columns are dependent, then the other half of the colums, which are independent, are enough to explain the data fully."
   ]
  }
 ],
 "metadata": {
  "kernelspec": {
   "display_name": "Python 3",
   "language": "python",
   "name": "python3"
  },
  "language_info": {
   "codemirror_mode": {
    "name": "ipython",
    "version": 3
   },
   "file_extension": ".py",
   "mimetype": "text/x-python",
   "name": "python",
   "nbconvert_exporter": "python",
   "pygments_lexer": "ipython3",
   "version": "3.7.4"
  }
 },
 "nbformat": 4,
 "nbformat_minor": 4
}
