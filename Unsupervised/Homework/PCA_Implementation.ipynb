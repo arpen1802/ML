{
 "cells": [
  {
   "cell_type": "code",
   "execution_count": 38,
   "metadata": {},
   "outputs": [],
   "source": [
    "import numpy as np\n",
    "import matplotlib.pyplot as plt"
   ]
  },
  {
   "cell_type": "code",
   "execution_count": 39,
   "metadata": {},
   "outputs": [],
   "source": [
    "from mnist import MNIST"
   ]
  },
  {
   "cell_type": "code",
   "execution_count": 44,
   "metadata": {},
   "outputs": [],
   "source": [
    "class PCA:\n",
    "    def __init__(self, k):\n",
    "        self.k = k\n",
    "        self.mean = None\n",
    "        self.matrix = None\n",
    "\n",
    "    def fit(self, data):\n",
    "        \"\"\"\n",
    "        performs SVD to get the transformation matrix\n",
    "        \"\"\"\n",
    "        S = np.zeros((data.shape[1],data.shape[1]))\n",
    "        self.mean = np.mean(data,axis=1).reshape(-1,1)\n",
    "        data = data - self.mean\n",
    "        S = np.cov(data.T)\n",
    "        u,s, vh = np.linalg.svd(S)\n",
    "        self.matrix = u[:self.k]      \n",
    "    def transform(self, data):\n",
    "        \"\"\"\n",
    "        projects data to lower dimensional space\n",
    "        \"\"\"\n",
    "        data = data - self.mean\n",
    "        Y = np.dot(self.matrix,data.T)  \n",
    "        return Y\n",
    "    def inverse_transform(self, data_transformed):\n",
    "        \"\"\"\n",
    "        reconstructs the data\n",
    "        \"\"\"\n",
    "        Y =  np.dot(data_transformed.T,self.matrix)\n",
    "        return Y\n",
    "        \n"
   ]
  },
  {
   "cell_type": "code",
   "execution_count": 45,
   "metadata": {},
   "outputs": [],
   "source": [
    "# TODO: Generate data with some linear correlations and check the performance of your algorithm"
   ]
  },
  {
   "cell_type": "code",
   "execution_count": 46,
   "metadata": {
    "scrolled": true
   },
   "outputs": [
    {
     "data": {
      "image/png": "[encoded data removed]",
      "text/plain": [
       "<Figure size 1080x1440 with 5 Axes>"
      ]
     },
     "metadata": {
      "needs_background": "light"
     },
     "output_type": "display_data"
    }
   ],
   "source": [
    "mndata = MNIST('../Data/')\n",
    "images, labels = mndata.load_training()\n",
    "images = np.array(images,dtype=float)\n",
    "model = PCA(1)\n",
    "model.fit(images)\n",
    "X_tr = model.transform(images)\n",
    "X_inv = model.inverse_transform(X_tr)\n",
    "\n",
    "# TODO: Fit PCA with 5 components\n",
    "\n",
    "\n",
    "# TODO: Plot each component in subplots (name subplots with ccomponent number)\n",
    "\n",
    "\n",
    "# TODO: Save the plot with name \"MNIST_Components_Yourname\"\n",
    "n_comps = [1, 2, 3, 4, 5]\n",
    "fig, axes = plt.subplots(nrows=1, ncols=5, figsize=(15,20))\n",
    "for ax,i,n_comp in zip(axes.flatten(),range(len(n_comps)), n_comps):\n",
    "    pca = PCA(n_comp)\n",
    "    model.fit(images)\n",
    "    X_tr = model.transform(images)\n",
    "    X_inv = model.inverse_transform(X_tr)\n",
    "    ax.imshow(X_inv[0].reshape((28, 28)),cmap='gray')\n",
    "    ax.set_title(\"{} components\".format(n_comp))\n"
   ]
  },
  {
   "cell_type": "code",
   "execution_count": null,
   "metadata": {},
   "outputs": [],
   "source": []
  }
 ],
 "metadata": {
  "kernelspec": {
   "display_name": "Python 3",
   "language": "python",
   "name": "python3"
  },
  "language_info": {
   "codemirror_mode": {
    "name": "ipython",
    "version": 3
   },
   "file_extension": ".py",
   "mimetype": "text/x-python",
   "name": "python",
   "nbconvert_exporter": "python",
   "pygments_lexer": "ipython3",
   "version": "3.7.4"
  }
 },
 "nbformat": 4,
 "nbformat_minor": 4
}
