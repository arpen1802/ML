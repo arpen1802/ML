{
 "cells": [
  {
   "cell_type": "markdown",
   "metadata": {},
   "source": [
    "# NumPy Exercises \n",
    "\n",
    "Now that we've learned about NumPy let's test your knowledge. We'll start off with a few simple tasks, and then you'll be asked some more complicated questions."
   ]
  },
  {
   "cell_type": "markdown",
   "metadata": {},
   "source": [
    "#### Import NumPy as np"
   ]
  },
  {
   "cell_type": "code",
   "execution_count": 164,
   "metadata": {},
   "outputs": [],
   "source": [
    "import numpy as np"
   ]
  },
  {
   "cell_type": "markdown",
   "metadata": {},
   "source": [
    "#### Create an array of 10 zeros "
   ]
  },
  {
   "cell_type": "code",
   "execution_count": 165,
   "metadata": {},
   "outputs": [
    {
     "data": {
      "text/plain": [
       "array([0., 0., 0., 0., 0., 0., 0., 0., 0., 0.])"
      ]
     },
     "execution_count": 165,
     "metadata": {},
     "output_type": "execute_result"
    }
   ],
   "source": [
    "np.zeros(10)\n"
   ]
  },
  {
   "cell_type": "markdown",
   "metadata": {},
   "source": [
    "#### Create an array of 10 ones"
   ]
  },
  {
   "cell_type": "code",
   "execution_count": 166,
   "metadata": {},
   "outputs": [
    {
     "data": {
      "text/plain": [
       "array([1., 1., 1., 1., 1., 1., 1., 1., 1., 1.])"
      ]
     },
     "execution_count": 166,
     "metadata": {},
     "output_type": "execute_result"
    }
   ],
   "source": [
    "np.ones(10)\n"
   ]
  },
  {
   "cell_type": "markdown",
   "metadata": {},
   "source": [
    "#### Create an array of 10 fives"
   ]
  },
  {
   "cell_type": "code",
   "execution_count": 167,
   "metadata": {},
   "outputs": [
    {
     "data": {
      "text/plain": [
       "array([5., 5., 5., 5., 5., 5., 5., 5., 5., 5.])"
      ]
     },
     "execution_count": 167,
     "metadata": {},
     "output_type": "execute_result"
    }
   ],
   "source": [
    "np.zeros(10)+5\n"
   ]
  },
  {
   "cell_type": "markdown",
   "metadata": {},
   "source": [
    "#### Create an array of the integers from 10 to 50"
   ]
  },
  {
   "cell_type": "code",
   "execution_count": 168,
   "metadata": {},
   "outputs": [
    {
     "data": {
      "text/plain": [
       "array([10, 11, 12, 13, 14, 15, 16, 17, 18, 19, 20, 21, 22, 23, 24, 25, 26,\n",
       "       27, 28, 29, 30, 31, 32, 33, 34, 35, 36, 37, 38, 39, 40, 41, 42, 43,\n",
       "       44, 45, 46, 47, 48, 49, 50])"
      ]
     },
     "execution_count": 168,
     "metadata": {},
     "output_type": "execute_result"
    }
   ],
   "source": [
    "np.arange(10,51)"
   ]
  },
  {
   "cell_type": "markdown",
   "metadata": {},
   "source": [
    "#### Create an array of all the even integers from 10 to 50"
   ]
  },
  {
   "cell_type": "code",
   "execution_count": 169,
   "metadata": {},
   "outputs": [
    {
     "data": {
      "text/plain": [
       "array([10, 12, 14, 16, 18, 20, 22, 24, 26, 28, 30, 32, 34, 36, 38, 40, 42,\n",
       "       44, 46, 48, 50])"
      ]
     },
     "execution_count": 169,
     "metadata": {},
     "output_type": "execute_result"
    }
   ],
   "source": [
    "np.arange(10,51,2)"
   ]
  },
  {
   "cell_type": "markdown",
   "metadata": {},
   "source": [
    "#### Create a 3x3 matrix with values ranging from 0 to 8"
   ]
  },
  {
   "cell_type": "code",
   "execution_count": 170,
   "metadata": {},
   "outputs": [
    {
     "data": {
      "text/plain": [
       "array([[0, 1, 2],\n",
       "       [3, 4, 5],\n",
       "       [6, 7, 8]])"
      ]
     },
     "execution_count": 170,
     "metadata": {},
     "output_type": "execute_result"
    }
   ],
   "source": [
    "np.arange(0,9).reshape(3,3)"
   ]
  },
  {
   "cell_type": "markdown",
   "metadata": {},
   "source": [
    "#### Create a 3x3 identity matrix"
   ]
  },
  {
   "cell_type": "code",
   "execution_count": 171,
   "metadata": {},
   "outputs": [
    {
     "data": {
      "text/plain": [
       "array([[1., 0., 0.],\n",
       "       [0., 1., 0.],\n",
       "       [0., 0., 1.]])"
      ]
     },
     "execution_count": 171,
     "metadata": {},
     "output_type": "execute_result"
    }
   ],
   "source": [
    "np.eye(3)"
   ]
  },
  {
   "cell_type": "markdown",
   "metadata": {},
   "source": [
    "#### Use NumPy to generate a random number between 0 and 1"
   ]
  },
  {
   "cell_type": "code",
   "execution_count": 172,
   "metadata": {},
   "outputs": [
    {
     "data": {
      "text/plain": [
       "array([0.32164733])"
      ]
     },
     "execution_count": 172,
     "metadata": {},
     "output_type": "execute_result"
    }
   ],
   "source": [
    "np.random.rand(1)"
   ]
  },
  {
   "cell_type": "markdown",
   "metadata": {},
   "source": [
    "#### Use NumPy to generate an array of 25 random numbers sampled from a standard normal distribution"
   ]
  },
  {
   "cell_type": "code",
   "execution_count": 173,
   "metadata": {},
   "outputs": [
    {
     "data": {
      "text/plain": [
       "array([ 0.66405224, -0.582604  ,  0.61488906, -0.46808509,  0.128701  ,\n",
       "        0.699716  ,  0.95983652, -0.3452662 ,  0.26285289,  1.20560453,\n",
       "        1.0148286 ,  0.16615439,  1.12089782,  0.01648983,  1.50655603,\n",
       "       -1.95708724,  1.39879857,  1.81000589, -1.97735699,  1.73990996,\n",
       "        0.53268936, -1.40063031, -0.33824023, -0.64577559, -0.45676365])"
      ]
     },
     "execution_count": 173,
     "metadata": {},
     "output_type": "execute_result"
    }
   ],
   "source": [
    "np.random.randn(25)\n"
   ]
  },
  {
   "cell_type": "markdown",
   "metadata": {},
   "source": [
    "#### Create the following matrix:"
   ]
  },
  {
   "cell_type": "code",
   "execution_count": 174,
   "metadata": {},
   "outputs": [
    {
     "data": {
      "text/plain": [
       "array([[0.01, 0.02, 0.03, 0.04, 0.05, 0.06, 0.07, 0.08, 0.09, 0.1 ],\n",
       "       [0.11, 0.12, 0.13, 0.14, 0.15, 0.16, 0.17, 0.18, 0.19, 0.2 ],\n",
       "       [0.21, 0.22, 0.23, 0.24, 0.25, 0.26, 0.27, 0.28, 0.29, 0.3 ],\n",
       "       [0.31, 0.32, 0.33, 0.34, 0.35, 0.36, 0.37, 0.38, 0.39, 0.4 ],\n",
       "       [0.41, 0.42, 0.43, 0.44, 0.45, 0.46, 0.47, 0.48, 0.49, 0.5 ],\n",
       "       [0.51, 0.52, 0.53, 0.54, 0.55, 0.56, 0.57, 0.58, 0.59, 0.6 ],\n",
       "       [0.61, 0.62, 0.63, 0.64, 0.65, 0.66, 0.67, 0.68, 0.69, 0.7 ],\n",
       "       [0.71, 0.72, 0.73, 0.74, 0.75, 0.76, 0.77, 0.78, 0.79, 0.8 ],\n",
       "       [0.81, 0.82, 0.83, 0.84, 0.85, 0.86, 0.87, 0.88, 0.89, 0.9 ],\n",
       "       [0.91, 0.92, 0.93, 0.94, 0.95, 0.96, 0.97, 0.98, 0.99, 1.  ]])"
      ]
     },
     "execution_count": 174,
     "metadata": {},
     "output_type": "execute_result"
    }
   ],
   "source": [
    "np.arange(0.01,1.01,0.01).reshape(10,10)"
   ]
  },
  {
   "cell_type": "markdown",
   "metadata": {},
   "source": [
    "#### Create an array of 20 linearly spaced points between 0 and 1:"
   ]
  },
  {
   "cell_type": "code",
   "execution_count": 175,
   "metadata": {},
   "outputs": [
    {
     "data": {
      "text/plain": [
       "array([0.        , 0.05263158, 0.10526316, 0.15789474, 0.21052632,\n",
       "       0.26315789, 0.31578947, 0.36842105, 0.42105263, 0.47368421,\n",
       "       0.52631579, 0.57894737, 0.63157895, 0.68421053, 0.73684211,\n",
       "       0.78947368, 0.84210526, 0.89473684, 0.94736842, 1.        ])"
      ]
     },
     "execution_count": 175,
     "metadata": {},
     "output_type": "execute_result"
    }
   ],
   "source": [
    "np.linspace(0,1,20)"
   ]
  },
  {
   "cell_type": "markdown",
   "metadata": {},
   "source": [
    "## Numpy Indexing and Selection\n",
    "\n",
    "Now you will be given a few matrices, and be asked to replicate the resulting matrix outputs:"
   ]
  },
  {
   "cell_type": "code",
   "execution_count": 176,
   "metadata": {},
   "outputs": [
    {
     "data": {
      "text/plain": [
       "array([[ 1,  2,  3,  4,  5],\n",
       "       [ 6,  7,  8,  9, 10],\n",
       "       [11, 12, 13, 14, 15],\n",
       "       [16, 17, 18, 19, 20],\n",
       "       [21, 22, 23, 24, 25]])"
      ]
     },
     "execution_count": 176,
     "metadata": {},
     "output_type": "execute_result"
    }
   ],
   "source": [
    "mat = np.arange(1,26).reshape(5,5)\n",
    "mat"
   ]
  },
  {
   "cell_type": "code",
   "execution_count": 177,
   "metadata": {},
   "outputs": [],
   "source": [
    "# WRITE CODE HERE THAT REPRODUCES THE OUTPUT OF THE CELL BELOW\n",
    "# BE CAREFUL NOT TO RUN THE CELL BELOW, OTHERWISE YOU WON'T\n",
    "# BE ABLE TO SEE THE OUTPUT ANY MORE"
   ]
  },
  {
   "cell_type": "code",
   "execution_count": 178,
   "metadata": {},
   "outputs": [
    {
     "data": {
      "text/plain": [
       "array([[12, 13, 14, 15],\n",
       "       [17, 18, 19, 20],\n",
       "       [22, 23, 24, 25]])"
      ]
     },
     "execution_count": 178,
     "metadata": {},
     "output_type": "execute_result"
    }
   ],
   "source": [
    "mat[2:,1:]"
   ]
  },
  {
   "cell_type": "code",
   "execution_count": 40,
   "metadata": {},
   "outputs": [
    {
     "data": {
      "text/plain": [
       "array([[12, 13, 14, 15],\n",
       "       [17, 18, 19, 20],\n",
       "       [22, 23, 24, 25]])"
      ]
     },
     "execution_count": 40,
     "metadata": {},
     "output_type": "execute_result"
    }
   ],
   "source": []
  },
  {
   "cell_type": "code",
   "execution_count": 179,
   "metadata": {},
   "outputs": [],
   "source": [
    "# WRITE CODE HERE THAT REPRODUCES THE OUTPUT OF THE CELL BELOW\n",
    "# BE CAREFUL NOT TO RUN THE CELL BELOW, OTHERWISE YOU WON'T\n",
    "# BE ABLE TO SEE THE OUTPUT ANY MORE"
   ]
  },
  {
   "cell_type": "code",
   "execution_count": 180,
   "metadata": {},
   "outputs": [
    {
     "data": {
      "text/plain": [
       "20"
      ]
     },
     "execution_count": 180,
     "metadata": {},
     "output_type": "execute_result"
    }
   ],
   "source": [
    "mat[3][4]"
   ]
  },
  {
   "cell_type": "code",
   "execution_count": 54,
   "metadata": {},
   "outputs": [
    {
     "data": {
      "text/plain": [
       "20"
      ]
     },
     "execution_count": 54,
     "metadata": {},
     "output_type": "execute_result"
    }
   ],
   "source": []
  },
  {
   "cell_type": "code",
   "execution_count": 181,
   "metadata": {},
   "outputs": [],
   "source": [
    "# WRITE CODE HERE THAT REPRODUCES THE OUTPUT OF THE CELL BELOW\n",
    "# BE CAREFUL NOT TO RUN THE CELL BELOW, OTHERWISE YOU WON'T\n",
    "# BE ABLE TO SEE THE OUTPUT ANY MORE"
   ]
  },
  {
   "cell_type": "code",
   "execution_count": 182,
   "metadata": {},
   "outputs": [
    {
     "data": {
      "text/plain": [
       "array([[ 2],\n",
       "       [ 7],\n",
       "       [12]])"
      ]
     },
     "execution_count": 182,
     "metadata": {},
     "output_type": "execute_result"
    }
   ],
   "source": [
    "mat[:3,1:2]"
   ]
  },
  {
   "cell_type": "code",
   "execution_count": 42,
   "metadata": {},
   "outputs": [
    {
     "data": {
      "text/plain": [
       "array([[ 2],\n",
       "       [ 7],\n",
       "       [12]])"
      ]
     },
     "execution_count": 42,
     "metadata": {},
     "output_type": "execute_result"
    }
   ],
   "source": []
  },
  {
   "cell_type": "code",
   "execution_count": 183,
   "metadata": {},
   "outputs": [],
   "source": [
    "# WRITE CODE HERE THAT REPRODUCES THE OUTPUT OF THE CELL BELOW\n",
    "# BE CAREFUL NOT TO RUN THE CELL BELOW, OTHERWISE YOU WON'T\n",
    "# BE ABLE TO SEE THE OUTPUT ANY MORE"
   ]
  },
  {
   "cell_type": "code",
   "execution_count": 184,
   "metadata": {},
   "outputs": [
    {
     "data": {
      "text/plain": [
       "array([21, 22, 23, 24, 25])"
      ]
     },
     "execution_count": 184,
     "metadata": {},
     "output_type": "execute_result"
    }
   ],
   "source": [
    "mat[4]"
   ]
  },
  {
   "cell_type": "code",
   "execution_count": 46,
   "metadata": {},
   "outputs": [
    {
     "data": {
      "text/plain": [
       "array([21, 22, 23, 24, 25])"
      ]
     },
     "execution_count": 46,
     "metadata": {},
     "output_type": "execute_result"
    }
   ],
   "source": []
  },
  {
   "cell_type": "code",
   "execution_count": 185,
   "metadata": {},
   "outputs": [],
   "source": [
    "# WRITE CODE HERE THAT REPRODUCES THE OUTPUT OF THE CELL BELOW\n",
    "# BE CAREFUL NOT TO RUN THE CELL BELOW, OTHERWISE YOU WON'T\n",
    "# BE ABLE TO SEE THE OUTPUT ANY MORE"
   ]
  },
  {
   "cell_type": "code",
   "execution_count": 186,
   "metadata": {},
   "outputs": [
    {
     "data": {
      "text/plain": [
       "array([[16, 17, 18, 19, 20],\n",
       "       [21, 22, 23, 24, 25]])"
      ]
     },
     "execution_count": 186,
     "metadata": {},
     "output_type": "execute_result"
    }
   ],
   "source": [
    "mat[3:5]"
   ]
  },
  {
   "cell_type": "code",
   "execution_count": 49,
   "metadata": {},
   "outputs": [
    {
     "data": {
      "text/plain": [
       "array([[16, 17, 18, 19, 20],\n",
       "       [21, 22, 23, 24, 25]])"
      ]
     },
     "execution_count": 49,
     "metadata": {},
     "output_type": "execute_result"
    }
   ],
   "source": []
  },
  {
   "cell_type": "markdown",
   "metadata": {},
   "source": [
    "### Now do the following"
   ]
  },
  {
   "cell_type": "markdown",
   "metadata": {},
   "source": [
    "#### Get the sum of all the values in mat"
   ]
  },
  {
   "cell_type": "code",
   "execution_count": 187,
   "metadata": {},
   "outputs": [
    {
     "data": {
      "text/plain": [
       "325"
      ]
     },
     "execution_count": 187,
     "metadata": {},
     "output_type": "execute_result"
    }
   ],
   "source": [
    "mat.sum()"
   ]
  },
  {
   "cell_type": "markdown",
   "metadata": {},
   "source": [
    "#### Get the standard deviation of the values in mat"
   ]
  },
  {
   "cell_type": "code",
   "execution_count": 188,
   "metadata": {},
   "outputs": [
    {
     "data": {
      "text/plain": [
       "7.211102550927978"
      ]
     },
     "execution_count": 188,
     "metadata": {},
     "output_type": "execute_result"
    }
   ],
   "source": [
    "mat.std()"
   ]
  },
  {
   "cell_type": "markdown",
   "metadata": {},
   "source": [
    "#### Get the sum of all the columns in mat"
   ]
  },
  {
   "cell_type": "code",
   "execution_count": 189,
   "metadata": {},
   "outputs": [
    {
     "data": {
      "text/plain": [
       "array([55, 60, 65, 70, 75])"
      ]
     },
     "execution_count": 189,
     "metadata": {},
     "output_type": "execute_result"
    }
   ],
   "source": [
    "mat.sum(axis=0)"
   ]
  },
  {
   "cell_type": "markdown",
   "metadata": {},
   "source": [
    "## Assign the following values\n",
    "theta_0 = 15; \n",
    "theta_1 = 0.2; \n",
    "variance=1.2"
   ]
  },
  {
   "cell_type": "code",
   "execution_count": 190,
   "metadata": {},
   "outputs": [],
   "source": [
    "theta_0 = 15\n",
    "theta_1 = 0.2\n",
    "variance = 1.2"
   ]
  },
  {
   "cell_type": "markdown",
   "metadata": {},
   "source": [
    "## Generate 100 points uniform randomly in range [-50,50] and assign it to X_0"
   ]
  },
  {
   "cell_type": "code",
   "execution_count": 191,
   "metadata": {},
   "outputs": [
    {
     "data": {
      "text/plain": [
       "array([-11.91079025, -38.86234906, -14.91460416,  10.37158296,\n",
       "        10.42843601, -11.41680684, -43.33969312,   0.63665798,\n",
       "        36.25932459,  20.11607772,  32.76499742, -45.25856261,\n",
       "       -12.0865539 , -29.45420829, -38.32093709,  39.56497894,\n",
       "       -42.79020123, -15.26198865,  25.2817883 , -11.42204619,\n",
       "        37.81305291, -34.68226858,  43.44021575,  46.83508918,\n",
       "       -31.48809965,  20.7855296 ,  -3.25281329, -16.76039073,\n",
       "         2.27451717,  -3.9330608 , -28.86611098,  23.73892209,\n",
       "        45.73442118,  36.76025837,  32.80758711, -13.23098032,\n",
       "       -10.52054361,  35.97360081,  -3.73417341,  42.22100591,\n",
       "         0.52942102, -43.89179337,  45.53516582,  -9.23443728,\n",
       "        -0.70135789, -15.0696708 , -29.7766581 ,   5.44866943,\n",
       "        10.94675834,  24.01885879,  16.21239792, -24.84564974,\n",
       "        -5.31532944,   6.05687288,  27.12578443,  26.95520567,\n",
       "        37.4137921 , -28.25876506,  36.65928348,  -4.90296681,\n",
       "       -35.828227  ,  -6.62439554,   3.69989457,   9.19085352,\n",
       "        42.02775706,  34.46175098,  -3.16613278,   6.19413852,\n",
       "       -24.59723072,   0.2907672 , -49.55259299,  38.45022712,\n",
       "       -28.17416225, -28.78209528,  22.91513074, -47.11367871,\n",
       "        16.84783977, -33.19363772,  18.32966306, -32.99190837,\n",
       "        -2.56977067, -21.74608583,  22.68008672, -43.83277782,\n",
       "       -25.61938637, -22.68739294,  28.67516981,  -9.45311651,\n",
       "        -5.3958308 ,  41.02823812,   6.19336007, -46.91970341,\n",
       "         6.06225954, -37.9929134 ,  21.27188865,  38.67522089,\n",
       "       -48.10063273, -12.19870666,  35.27690585, -25.74354185])"
      ]
     },
     "execution_count": 191,
     "metadata": {},
     "output_type": "execute_result"
    }
   ],
   "source": [
    "x_0 = np.random.uniform(-50,50,100)\n",
    "x_0"
   ]
  },
  {
   "cell_type": "markdown",
   "metadata": {},
   "source": [
    "## Generate respective y_i normally distributed around theta_0 + theta_1 * x line ('x' are values of X_0) with variance=1.2"
   ]
  },
  {
   "cell_type": "code",
   "execution_count": 192,
   "metadata": {},
   "outputs": [],
   "source": [
    "line= theta_0+theta_1*x_0\n",
    "y_i = np.random.normal(line,scale = variance**1/2)"
   ]
  },
  {
   "cell_type": "markdown",
   "metadata": {},
   "source": [
    "## Convert X_0 into array(if it is not) and add 1 from the left to each row"
   ]
  },
  {
   "cell_type": "code",
   "execution_count": 193,
   "metadata": {},
   "outputs": [],
   "source": [
    "#it should look smth like this\n",
    "# (1,x1)\n",
    "# (1,x2)\n",
    "# .\n",
    "# .\n",
    "# ."
   ]
  },
  {
   "cell_type": "code",
   "execution_count": 194,
   "metadata": {},
   "outputs": [
    {
     "data": {
      "text/plain": [
       "array([[  1.        , -11.91079025],\n",
       "       [  1.        , -38.86234906],\n",
       "       [  1.        , -14.91460416],\n",
       "       [  1.        ,  10.37158296],\n",
       "       [  1.        ,  10.42843601],\n",
       "       [  1.        , -11.41680684],\n",
       "       [  1.        , -43.33969312],\n",
       "       [  1.        ,   0.63665798],\n",
       "       [  1.        ,  36.25932459],\n",
       "       [  1.        ,  20.11607772],\n",
       "       [  1.        ,  32.76499742],\n",
       "       [  1.        , -45.25856261],\n",
       "       [  1.        , -12.0865539 ],\n",
       "       [  1.        , -29.45420829],\n",
       "       [  1.        , -38.32093709],\n",
       "       [  1.        ,  39.56497894],\n",
       "       [  1.        , -42.79020123],\n",
       "       [  1.        , -15.26198865],\n",
       "       [  1.        ,  25.2817883 ],\n",
       "       [  1.        , -11.42204619],\n",
       "       [  1.        ,  37.81305291],\n",
       "       [  1.        , -34.68226858],\n",
       "       [  1.        ,  43.44021575],\n",
       "       [  1.        ,  46.83508918],\n",
       "       [  1.        , -31.48809965],\n",
       "       [  1.        ,  20.7855296 ],\n",
       "       [  1.        ,  -3.25281329],\n",
       "       [  1.        , -16.76039073],\n",
       "       [  1.        ,   2.27451717],\n",
       "       [  1.        ,  -3.9330608 ],\n",
       "       [  1.        , -28.86611098],\n",
       "       [  1.        ,  23.73892209],\n",
       "       [  1.        ,  45.73442118],\n",
       "       [  1.        ,  36.76025837],\n",
       "       [  1.        ,  32.80758711],\n",
       "       [  1.        , -13.23098032],\n",
       "       [  1.        , -10.52054361],\n",
       "       [  1.        ,  35.97360081],\n",
       "       [  1.        ,  -3.73417341],\n",
       "       [  1.        ,  42.22100591],\n",
       "       [  1.        ,   0.52942102],\n",
       "       [  1.        , -43.89179337],\n",
       "       [  1.        ,  45.53516582],\n",
       "       [  1.        ,  -9.23443728],\n",
       "       [  1.        ,  -0.70135789],\n",
       "       [  1.        , -15.0696708 ],\n",
       "       [  1.        , -29.7766581 ],\n",
       "       [  1.        ,   5.44866943],\n",
       "       [  1.        ,  10.94675834],\n",
       "       [  1.        ,  24.01885879],\n",
       "       [  1.        ,  16.21239792],\n",
       "       [  1.        , -24.84564974],\n",
       "       [  1.        ,  -5.31532944],\n",
       "       [  1.        ,   6.05687288],\n",
       "       [  1.        ,  27.12578443],\n",
       "       [  1.        ,  26.95520567],\n",
       "       [  1.        ,  37.4137921 ],\n",
       "       [  1.        , -28.25876506],\n",
       "       [  1.        ,  36.65928348],\n",
       "       [  1.        ,  -4.90296681],\n",
       "       [  1.        , -35.828227  ],\n",
       "       [  1.        ,  -6.62439554],\n",
       "       [  1.        ,   3.69989457],\n",
       "       [  1.        ,   9.19085352],\n",
       "       [  1.        ,  42.02775706],\n",
       "       [  1.        ,  34.46175098],\n",
       "       [  1.        ,  -3.16613278],\n",
       "       [  1.        ,   6.19413852],\n",
       "       [  1.        , -24.59723072],\n",
       "       [  1.        ,   0.2907672 ],\n",
       "       [  1.        , -49.55259299],\n",
       "       [  1.        ,  38.45022712],\n",
       "       [  1.        , -28.17416225],\n",
       "       [  1.        , -28.78209528],\n",
       "       [  1.        ,  22.91513074],\n",
       "       [  1.        , -47.11367871],\n",
       "       [  1.        ,  16.84783977],\n",
       "       [  1.        , -33.19363772],\n",
       "       [  1.        ,  18.32966306],\n",
       "       [  1.        , -32.99190837],\n",
       "       [  1.        ,  -2.56977067],\n",
       "       [  1.        , -21.74608583],\n",
       "       [  1.        ,  22.68008672],\n",
       "       [  1.        , -43.83277782],\n",
       "       [  1.        , -25.61938637],\n",
       "       [  1.        , -22.68739294],\n",
       "       [  1.        ,  28.67516981],\n",
       "       [  1.        ,  -9.45311651],\n",
       "       [  1.        ,  -5.3958308 ],\n",
       "       [  1.        ,  41.02823812],\n",
       "       [  1.        ,   6.19336007],\n",
       "       [  1.        , -46.91970341],\n",
       "       [  1.        ,   6.06225954],\n",
       "       [  1.        , -37.9929134 ],\n",
       "       [  1.        ,  21.27188865],\n",
       "       [  1.        ,  38.67522089],\n",
       "       [  1.        , -48.10063273],\n",
       "       [  1.        , -12.19870666],\n",
       "       [  1.        ,  35.27690585],\n",
       "       [  1.        , -25.74354185]])"
      ]
     },
     "execution_count": 194,
     "metadata": {},
     "output_type": "execute_result"
    }
   ],
   "source": [
    "x_0_reshaped = x_0.reshape(100,1)\n",
    "x_0_reshaped=np.insert(x_0_reshaped,0,1,axis=1)\n",
    "x_0_reshaped"
   ]
  },
  {
   "cell_type": "markdown",
   "metadata": {
    "collapsed": true
   },
   "source": [
    "# Great Job!"
   ]
  }
 ],
 "metadata": {
  "kernelspec": {
   "display_name": "Python 3",
   "language": "python",
   "name": "python3"
  },
  "language_info": {
   "codemirror_mode": {
    "name": "ipython",
    "version": 3
   },
   "file_extension": ".py",
   "mimetype": "text/x-python",
   "name": "python",
   "nbconvert_exporter": "python",
   "pygments_lexer": "ipython3",
   "version": "3.6.9"
  }
 },
 "nbformat": 4,
 "nbformat_minor": 1
}
