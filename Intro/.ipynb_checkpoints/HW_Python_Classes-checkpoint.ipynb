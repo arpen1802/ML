{
 "cells": [
  {
   "cell_type": "markdown",
   "metadata": {},
   "source": [
    "### 1. Create abstract class named \"Shape2D\" with abstract method \"get_Area\" and \"get_Perimeter\". In constructor pass variable dim=2 default value. Create subclasses \"Circle\", \"Triangle\", \"Paralellogram\". Each of the constructors should override the Base constructor and add case specific variables passes by argument."
   ]
  },
  {
   "cell_type": "code",
   "execution_count": 1,
   "metadata": {},
   "outputs": [],
   "source": [
    "#implement class\n",
    "from abc import ABC, abstractmethod\n",
    "import math\n",
    "\n",
    "class Shape2D(ABC):\n",
    "    def __init__(self, dim=2):\n",
    "        self.dim = dim\n",
    "    @abstractmethod\n",
    "    def get_Area(self):\n",
    "        pass\n",
    "    @abstractmethod\n",
    "    def get_Perimeter(selef):\n",
    "        pass\n",
    "    \n",
    "       \n",
    "\n",
    "    "
   ]
  },
  {
   "cell_type": "code",
   "execution_count": 2,
   "metadata": {},
   "outputs": [],
   "source": [
    "#create class instances and test\n",
    "class Circle(Shape2D):\n",
    "    def __init__(self,radius,dim=2):\n",
    "        super().__init__(dim)\n",
    "        self.radius = radius\n",
    "    def get_Area(self):\n",
    "        print(math.pi*(self.radius**2))\n",
    "    def get_Perimeter(self):\n",
    "        print(2*math.pi*self.radius)\n",
    "class Triangle(Shape2D):\n",
    "    def __init__(self,a,b,c,dim=2):\n",
    "        if((a+b)>c and (a+c)>b and (c+b)>a):\n",
    "            super().__init__(dim)\n",
    "            self.a = a\n",
    "            self.b = b\n",
    "            self.c = c\n",
    "        else:\n",
    "            print(\"No such triangle\")\n",
    "    def get_Area(self):\n",
    "        s = (self.a + self.b + self.c) / 2\n",
    "        area = (s*(s-self.a)*(s-self.b)*(s-self.c)) ** 0.5\n",
    "        print( round(area))\n",
    "    def get_Perimeter(self):\n",
    "        print(self.a+self.b+self.c)\n",
    "        \n",
    "class Paralellogram(Shape2D):\n",
    "    def __init__(self,a,b,h,dim=2):\n",
    "        super().__init__(dim)\n",
    "        self.a = a\n",
    "        self.b = b\n",
    "        self.h = h\n",
    "    def get_Area(self):\n",
    "        print(self.a*self.h)\n",
    "    def get_Perimeter(self):\n",
    "        print(2*(self.a+self.b))\n",
    "\n",
    "        \n",
    "    "
   ]
  },
  {
   "cell_type": "code",
   "execution_count": 3,
   "metadata": {},
   "outputs": [
    {
     "name": "stdout",
     "output_type": "stream",
     "text": [
      "3.141592653589793\n",
      "6.283185307179586\n",
      "6\n",
      "12\n",
      "10\n",
      "16\n"
     ]
    }
   ],
   "source": [
    "check = Circle(1)\n",
    "check.get_Area()\n",
    "check.get_Perimeter()\n",
    "check2 = Triangle(3,4,5)\n",
    "check2.get_Area()\n",
    "check2.get_Perimeter()\n",
    "check3 = Paralellogram(5,3,2)\n",
    "check3.get_Area()\n",
    "check3.get_Perimeter()"
   ]
  },
  {
   "cell_type": "markdown",
   "metadata": {},
   "source": [
    "### 2.1. Create class \"Matrix\", initialize it with params \"nrows\" and \"ncols\" ( number of rows, number of columns). Define a class method \"create_matrix\" which takes a list of integers as argument and creates a list of lists (matrix) with the given nrows and ncols."
   ]
  },
  {
   "cell_type": "code",
   "execution_count": 4,
   "metadata": {},
   "outputs": [],
   "source": [
    "#implement class\n",
    "class Matrix:\n",
    "    def __init__(self,nrows,ncols):\n",
    "        self.nrows = nrows\n",
    "        self.ncols = ncols\n",
    "        self.matrix = [[0 for i in range(self.ncols)] for i in range(self.nrows)]\n",
    "\n",
    "    def create_matrix(self,list_of_integers):\n",
    "        if(len(list_of_integers)%self.nrows==0 and len(list_of_integers)%self.ncols==0 ):\n",
    "            i = 0\n",
    "            for j in range(len(self.matrix)):\n",
    "                for k in range(len(self.matrix[j])):\n",
    "                    self.matrix[j][k] += list_of_integers[i]\n",
    "                    i += 1\n",
    "            return self.matrix\n",
    "        else:\n",
    "            print(\"cant create Matrix\")\n",
    "        \n",
    "        "
   ]
  },
  {
   "cell_type": "code",
   "execution_count": 5,
   "metadata": {},
   "outputs": [
    {
     "data": {
      "text/plain": [
       "[[1, 2], [3, 4]]"
      ]
     },
     "execution_count": 5,
     "metadata": {},
     "output_type": "execute_result"
    }
   ],
   "source": [
    "#create class instances and test\n",
    "class1 = Matrix(2,2)\n",
    "class1.create_matrix([1,2,3,4])"
   ]
  },
  {
   "cell_type": "markdown",
   "metadata": {},
   "source": [
    "### 2.2. Implement operator in the same Matrix class. Overload operator * with proper matrix multiplication. (We have already implemented that during previous class, remember? Use that!)"
   ]
  },
  {
   "cell_type": "code",
   "execution_count": 6,
   "metadata": {},
   "outputs": [],
   "source": [
    "#implement class\n",
    "class Matrix:\n",
    "    def __init__(self,nrows,ncols):\n",
    "        self.nrows = nrows\n",
    "        self.ncols = ncols\n",
    "        self.matrix = [[0 for i in range(self.ncols)] for i in range(self.nrows)]\n",
    "\n",
    "    def create_matrix(self,list_of_integers):\n",
    "        if(len(list_of_integers)%self.nrows==0 and len(list_of_integers)%self.ncols==0 ):\n",
    "            i = 0\n",
    "            for j in range(len(self.matrix)):\n",
    "                for k in range(len(self.matrix[j])):\n",
    "                    self.matrix[j][k] += list_of_integers[i]\n",
    "                    i += 1\n",
    "            return self\n",
    "        else:\n",
    "            print(\"cant create Matrix\")\n",
    "        \n",
    "    def __mul__(self,other):\n",
    "        if(len(self.matrix[0])==len(other.matrix)):\n",
    "            matrix = [[0 for i in range(len(other.matrix[0]))] for i in range(len(self.matrix))]\n",
    "            for i in range(len(self.matrix)):\n",
    "                for j in range(len(other.matrix[0])):\n",
    "                    for k in range(len(other.matrix)):\n",
    "                        matrix[i][j] += self.matrix[i][k]*other.matrix[k][j]\n",
    "            return matrix\n",
    "        else:\n",
    "            return 'Matrices are not multipliable.'\n",
    "                \n",
    "        "
   ]
  },
  {
   "cell_type": "code",
   "execution_count": 7,
   "metadata": {},
   "outputs": [
    {
     "data": {
      "text/plain": [
       "[[7, 10], [15, 22]]"
      ]
     },
     "execution_count": 7,
     "metadata": {},
     "output_type": "execute_result"
    }
   ],
   "source": [
    "#create class instances and test\n",
    "class1 = Matrix(2,2)\n",
    "a=class1.create_matrix([1,2,3,4])\n",
    "class2 = Matrix(2,2)\n",
    "b=class2.create_matrix([1,2,3,4])\n",
    "a*b"
   ]
  },
  {
   "cell_type": "markdown",
   "metadata": {},
   "source": [
    "### 2.3. Add \"transpose\" method to the same Matrix class."
   ]
  },
  {
   "cell_type": "code",
   "execution_count": 8,
   "metadata": {},
   "outputs": [],
   "source": [
    "#implement class\n",
    "#implement class\n",
    "class Matrix:\n",
    "    def __init__(self,nrows,ncols):\n",
    "        self.nrows = nrows\n",
    "        self.ncols = ncols\n",
    "        self.matrix = [[0 for i in range(self.ncols)] for i in range(self.nrows)]\n",
    "\n",
    "    def create_matrix(self,list_of_integers):\n",
    "        if(len(list_of_integers)%self.nrows==0 and len(list_of_integers)%self.ncols==0 ):\n",
    "            i = 0\n",
    "            for j in range(len(self.matrix)):\n",
    "                for k in range(len(self.matrix[j])):\n",
    "                    self.matrix[j][k] += list_of_integers[i]\n",
    "                    i += 1\n",
    "            return self\n",
    "        else:\n",
    "            print(\"cant create Matrix\")\n",
    "        \n",
    "    def __mul__(self,other):\n",
    "        if(len(self.matrix[0])==len(other.matrix)):\n",
    "            matrix = [[0 for i in range(len(other.matrix[0]))] for i in range(len(self.matrix))]\n",
    "            for i in range(len(self.matrix)):\n",
    "                for j in range(len(other.matrix[0])):\n",
    "                    for k in range(len(other.matrix)):\n",
    "                        matrix[i][j] += self.matrix[i][k]*other.matrix[k][j]\n",
    "            return matrix\n",
    "        else:\n",
    "            return 'Matrices are not multipliable.'\n",
    "    def transpose(self):\n",
    "        transpose = [[0 for i in range(self.ncols)] for i in range(self.nrows)]\n",
    "        for i in range(len(self.matrix)):\n",
    "            for j in range(len(self.matrix[i])):\n",
    "                transpose[i][j]+=self.matrix[j][i]\n",
    "        return transpose\n",
    "\n",
    "                \n",
    "        "
   ]
  },
  {
   "cell_type": "code",
   "execution_count": 9,
   "metadata": {},
   "outputs": [
    {
     "data": {
      "text/plain": [
       "[[1, 4, 7], [2, 5, 8], [3, 6, 9]]"
      ]
     },
     "execution_count": 9,
     "metadata": {},
     "output_type": "execute_result"
    }
   ],
   "source": [
    "matrix = Matrix(3,3)\n",
    "matrix=matrix.create_matrix([1,2,3,4,5,6,7,8,9])\n",
    "matrix.transpose()"
   ]
  },
  {
   "cell_type": "markdown",
   "metadata": {},
   "source": [
    "### 2.4. Overload operator + in the same Matrix class."
   ]
  },
  {
   "cell_type": "code",
   "execution_count": 10,
   "metadata": {},
   "outputs": [],
   "source": [
    "#implement class\n",
    "#implement class\n",
    "class Matrix:\n",
    "    def __init__(self,nrows,ncols):\n",
    "        self.nrows = nrows\n",
    "        self.ncols = ncols\n",
    "        self.matrix = [[0 for i in range(self.ncols)] for i in range(self.nrows)]\n",
    "\n",
    "    def create_matrix(self,list_of_integers):\n",
    "        if(len(list_of_integers)%self.nrows==0 and len(list_of_integers)%self.ncols==0 ):\n",
    "            i = 0\n",
    "            for j in range(len(self.matrix)):\n",
    "                for k in range(len(self.matrix[j])):\n",
    "                    self.matrix[j][k] += list_of_integers[i]\n",
    "                    i += 1\n",
    "            return self\n",
    "        else:\n",
    "            print(\"cant create Matrix\")\n",
    "        \n",
    "    def __mul__(self,other):\n",
    "        if(len(self.matrix[0])==len(other.matrix)):\n",
    "            matrix = [[0 for i in range(len(other.matrix[0]))] for i in range(len(self.matrix))]\n",
    "            for i in range(len(self.matrix)):\n",
    "                for j in range(len(other.matrix[0])):\n",
    "                    for k in range(len(other.matrix)):\n",
    "                        matrix[i][j] += self.matrix[i][k]*other.matrix[k][j]\n",
    "            return matrix\n",
    "        else:\n",
    "            return 'Matrices are not multipliable.'\n",
    "    def transpose(self):\n",
    "        transpose = [[0 for i in range(self.ncols)] for i in range(self.nrows)]\n",
    "        for i in range(len(self.matrix)):\n",
    "            for j in range(len(self.matrix[i])):\n",
    "                transpose[i][j]+=self.matrix[j][i]\n",
    "        return transpose\n",
    "    def __add__(self,other):\n",
    "        if(self.nrows==other.nrows and self.ncols == other.ncols):\n",
    "            matrix = [[0 for i in range(self.ncols)] for i in range(self.nrows)]\n",
    "            for i in range(len(self.matrix)):\n",
    "                for j in range(len(self.matrix[i])):\n",
    "                    matrix[i][j]+=self.matrix[i][j]+other.matrix[i][j]\n",
    "            return matrix\n",
    "        else:\n",
    "            return 'Matrices are not addable.'"
   ]
  },
  {
   "cell_type": "code",
   "execution_count": 11,
   "metadata": {},
   "outputs": [
    {
     "data": {
      "text/plain": [
       "[[2, 4], [6, 8]]"
      ]
     },
     "execution_count": 11,
     "metadata": {},
     "output_type": "execute_result"
    }
   ],
   "source": [
    "#create class instances and test\n",
    "class1 = Matrix(2,2)\n",
    "a=class1.create_matrix([1,2,3,4])\n",
    "class2 = Matrix(2,2)\n",
    "b=class2.create_matrix([1,2,3,4])\n",
    "a+b"
   ]
  },
  {
   "cell_type": "markdown",
   "metadata": {},
   "source": [
    "### 3. Create abstract class \"Number\" with abstractmethods +,-,* operators' magic methods (__add__, __sub__, __mul__). Create 2 subclasses \"Real\" and \"Complex\"."
   ]
  },
  {
   "cell_type": "code",
   "execution_count": 12,
   "metadata": {},
   "outputs": [],
   "source": [
    "#implement class\n",
    "from abc import ABC, abstractmethod\n",
    "class Number(ABC):\n",
    "    def __init__(self,number):\n",
    "        self.number = number\n",
    "        \n",
    "    @abstractmethod\n",
    "    def __add__(self):\n",
    "        pass\n",
    "    @abstractmethod\n",
    "    def __sub__(self):\n",
    "        pass\n",
    "    @abstractmethod\n",
    "    def __mul__(self):\n",
    "        pass\n",
    "\n",
    "class Real(Number):\n",
    "    def __init__(self,number):\n",
    "        super().__init__(number)\n",
    "    def __add__(self,other):\n",
    "        return float(self.number) + float(other.number)\n",
    "    def __sub__(self,other):\n",
    "        return float(self.number) - float(other.number)\n",
    "    def __mul__(self,number):\n",
    "        return float(self.number) * float(other.number)\n",
    "class Complex(Number):\n",
    "    def __init__(self,number,imaginary):\n",
    "        super().__init__(number)\n",
    "        self.imaginary = imaginary\n",
    "    def __add__(self,other):\n",
    "        return complex(self.number,self.imaginary) + complex(other.number,self.imaginary)\n",
    "    def __sub__(self,other):\n",
    "        return complex(self.number,self.imaginary) - complex(other.number,self.imaginary)\n",
    "    def __mul__(self,number):\n",
    "        return complex(self.number,self.imaginary) * complex(other.numberself.imaginary)\n",
    "        \n",
    "\n",
    "    \n",
    "       \n",
    "\n",
    "    \n"
   ]
  },
  {
   "cell_type": "code",
   "execution_count": 13,
   "metadata": {},
   "outputs": [
    {
     "name": "stdout",
     "output_type": "stream",
     "text": [
      "82.456\n",
      "(14+16j)\n"
     ]
    }
   ],
   "source": [
    "#create class instances and test\n",
    "a = Real(77.456)\n",
    "b = Real(5)\n",
    "print(a+b)\n",
    "c = Complex(6,8)\n",
    "d = Complex(8,9)\n",
    "print(c+d)"
   ]
  },
  {
   "cell_type": "markdown",
   "metadata": {},
   "source": [
    "### 4. Think of a polymorphism example from your workplace/univsersity, or daily routine. Create a class out of that idea. Make it more complex by adding some interesting functionlity.\n",
    "### Try to be maximum creative (:"
   ]
  },
  {
   "cell_type": "code",
   "execution_count": 14,
   "metadata": {},
   "outputs": [],
   "source": [
    "#implement class\n",
    "class Person:\n",
    "    def __init__(self,name,surname,age):\n",
    "        self.name = name\n",
    "        self.surname = surname\n",
    "        self.age = age\n",
    "        \n",
    "    def showProfile(self,country=None):\n",
    "        if(country!=None):\n",
    "            print(self.name+' '+self.surname+'. Is '+self.age+' years old. Was born in '+country+'.')\n",
    "        else:\n",
    "            print(self.name+' '+self.surname+'. Is '+self.age+' years old.')\n",
    "\n",
    "        \n",
    "class Employee(Person):\n",
    "    def __init__(self,name,surname,age,profession):\n",
    "        super().__init__(name,surname,age)\n",
    "        self.profession = profession\n",
    "    def showProfile(self,country=None):\n",
    "        if(self.profession!='not_working'):\n",
    "            super().showProfile(country)\n",
    "            print('Works as a '+self.profession)\n",
    "        else:\n",
    "            super().showProfile(country)\n",
    "            print('Currently is unemployeed.')\n",
    "            \n",
    "        \n",
    "class Student(Employee):\n",
    "    def __init__(self,name,surname,age,year,profession='not_working',country=None):\n",
    "        super().__init__(name,surname,age,profession)\n",
    "        self.country = country\n",
    "        self.year = year\n",
    "    def showProfile(self,country=None):\n",
    "        super().showProfile(country or self.country)\n",
    "        print('Studies at the university already '+self.year+' year.')"
   ]
  },
  {
   "cell_type": "code",
   "execution_count": 15,
   "metadata": {},
   "outputs": [
    {
     "name": "stdout",
     "output_type": "stream",
     "text": [
      "John Smith. Is 18 years old. Was born in Armenia.\n",
      "Works as a Doctor\n",
      "Studies at the university already 1 year.\n",
      "None \n",
      "_______\n",
      "\n",
      "Armen Simonyan. Is 20 years old.\n",
      "Currently is unemployeed.\n",
      "Studies at the university already 3 year.\n",
      "None \n",
      "_______\n",
      "\n",
      "Sahak Sahakyan. Is 19 years old.\n",
      "Works as a Engineer\n",
      "Studies at the university already 2 year.\n",
      "None \n",
      "_______\n",
      "\n",
      "Vazgen Manukyan. Is 33 years old.\n",
      "Works as a Pilot\n",
      "None \n",
      "_______\n",
      "\n",
      "Mike Brown. Is 46 years old.\n",
      "Works as a Teacher\n",
      "None \n",
      "_______\n",
      "\n",
      "Jenny Green. Is 22 years old.\n",
      "None \n",
      "_______\n",
      "\n",
      "John Smith. Is 18 years old. Was born in Germany.\n",
      "Works as a Doctor\n",
      "Studies at the university already 1 year.\n",
      "None \n",
      "_______\n",
      "\n",
      "Armen Simonyan. Is 20 years old. Was born in Germany.\n",
      "Currently is unemployeed.\n",
      "Studies at the university already 3 year.\n",
      "None \n",
      "_______\n",
      "\n",
      "Sahak Sahakyan. Is 19 years old. Was born in Germany.\n",
      "Works as a Engineer\n",
      "Studies at the university already 2 year.\n",
      "None \n",
      "_______\n",
      "\n",
      "Vazgen Manukyan. Is 33 years old. Was born in Germany.\n",
      "Works as a Pilot\n",
      "None \n",
      "_______\n",
      "\n",
      "Mike Brown. Is 46 years old. Was born in Germany.\n",
      "Works as a Teacher\n",
      "None \n",
      "_______\n",
      "\n",
      "Jenny Green. Is 22 years old. Was born in Germany.\n",
      "None \n",
      "_______\n",
      "\n"
     ]
    }
   ],
   "source": [
    "#create class instances and test\n",
    "# In this example it will be more correct to insert country in Person constructor,\n",
    "#but for making example more interesting, country is passed as method argument.\n",
    "student1 = Student('John','Smith','18','1','Doctor','Armenia')\n",
    "student2 = Student('Armen','Simonyan','20','3')\n",
    "student3 = Student('Sahak','Sahakyan','19','2','Engineer')\n",
    "employee1 = Employee('Vazgen','Manukyan','33','Pilot')\n",
    "employee2 = Employee('Mike','Brown','46','Teacher')\n",
    "person = Person('Jenny','Green','22')\n",
    "\n",
    "list_of_people = [student1, student2, student3,employee1,employee2,person]\n",
    "#With no predefined country for all\n",
    "for someone in list_of_people:\n",
    "    print(someone.showProfile(), '\\n_______\\n')\n",
    "#With default country\n",
    "for someone in list_of_people:\n",
    "    print(someone.showProfile('Germany'), '\\n_______\\n')"
   ]
  },
  {
   "cell_type": "markdown",
   "metadata": {},
   "source": [
    "### 5. Let's model the Educational System. Below I have listed some entities regarding to Educational System.\n",
    "* Universities\n",
    "* Schools\n",
    "* Kindergartens\n",
    "* Colleges\n",
    "* Teachers at Schools\n",
    "* Teachers at Kindergartens\n",
    "* Teachers at Colleges\n",
    "* Lecturers at Universities\n",
    "* Students\n",
    "* Pupils\n",
    "* Children\n",
    "* University Faculties\n",
    "* Bachelor Degree\n",
    "* Masters Degree\n",
    "* PhD Degree\n",
    "* Primary School\n",
    "* Middle School\n",
    "* High School\n",
    "\n",
    "### You have to decide for yourself what classes, methods, parameters, inheritances do you need. The entities listed above are just there to help you. You can add or remove anything from that list.\n",
    "### I expect a complex group of classes, where I can find multiple inheritances and lots of method overriding. Again, try to be creative and efficient!"
   ]
  },
  {
   "cell_type": "code",
   "execution_count": 16,
   "metadata": {},
   "outputs": [],
   "source": [
    "#implement class\n",
    "\n",
    "class Person:\n",
    "    def __init__(self,name,surname,age):\n",
    "        self.name = name\n",
    "        self.surname= surname\n",
    "        self.age = age\n",
    "    def introduceItself(self):\n",
    "        print('I am {0} {1} and I am {2} years old.'.format(self.name, self.surname,self.age))\n",
    "        \n",
    "class Teacher(Person):\n",
    "    def __init__(self,name,surname,age,place,years):\n",
    "        super().__init__(name,surname,age)\n",
    "        self.place = place\n",
    "        self.years = years\n",
    "    def introduceItself(self):\n",
    "        super().introduceItself()\n",
    "        print('I work in {0} for {1} years.'.format(self.place,self.years))\n",
    "    def delete(self):\n",
    "        print('Teacher is deleted.')\n",
    "        \n",
    "class Student(Person):\n",
    "    def __init__(self,name,surname,age,place,years):\n",
    "        super().__init__(name,surname,age)\n",
    "        self.place = place\n",
    "        self.years = years\n",
    "    def introduceItself(self):\n",
    "        super().introduceItself()\n",
    "        print('I study in {0} for {1} years.'.format(self.place,self.years))\n",
    "    def __add__(self,other):\n",
    "        print(self.name+' and '+other.name+' are now friends.')\n",
    "    def __sub(self,other):\n",
    "        print(self.name+' deleted '+other.name+' from list of friends.')\n",
    "    def delete(self):\n",
    "        print('Student is deleted.')\n",
    "class EducSpace(Teacher,Student):\n",
    "    teacher_total = 0\n",
    "    students_total = 0\n",
    "    number_of_degrees=0\n",
    "    number_of_school_types=0\n",
    "    def __init__(self,type_of,title,city):\n",
    "        self.type_of = type_of\n",
    "        self.title = title\n",
    "        self.city = city\n",
    "    def introduceItself(self):\n",
    "        print('The {0} is one of the most famous {1} in the city of {2}'.format(self.title, self.type_of,self.city))\n",
    "    def __add__(self,other):\n",
    "        if(isinstance(other,Teacher)):\n",
    "            EducSpace.teacher_total+=1\n",
    "            print('The number of teachers is {0},'.format(EducSpace.teacher_total))\n",
    "        elif(isinstance(other,Student)):\n",
    "            EducSpace.students_total+=1\n",
    "            print('The number of students is {0},'.format(EducSpace.students_total))\n",
    "    def delete(self):\n",
    "        super().delete()\n",
    "        EducSpace.teacher_total-=1\n",
    "        EducSpace.students_total-=1\n",
    "    def create(self,name,typeof):\n",
    "        if(typeof=='Degree'):\n",
    "            Degree.__init__(self,name)\n",
    "            EducSpace.number_of_degrees+=1\n",
    "            print('A new degree with name {0} was created.Number of degrees is {1}.'.format(name,EducSpace.number_of_degrees))\n",
    "        else:\n",
    "            SchoolType.__init__(self,name)\n",
    "            EducSpace.number_of_school_types+=1\n",
    "            print('A new school level {0} has been created.Number of levels is {1}.'.format(name,EducSpace.number_of_school_types))\n",
    "            \n",
    "        \n",
    "    \n",
    "\n",
    "class DegreeType(EducSpace):\n",
    "    def __init__(self,name):\n",
    "        self.name = name\n",
    "    def create(self,title,city):\n",
    "        super().__init__('University',title,city)\n",
    "        EducSpace.number_of_degrees+=1\n",
    "        print('Number of degrees in {0} is.'.format(EducSpace.number_of_degrees))\n",
    "        \n",
    "class SchoolType(EducSpace):\n",
    "    def __init__(self,name):\n",
    "        self.name = name\n",
    "    def create(self,title,city):\n",
    "        super().__init__('School',title,city)\n",
    "        EducSpace.number_of_school_types+=1\n",
    "        print('Number of types in {0} is.'.format(EducSpace.number_of_school_types))\n",
    "\n",
    "    "
   ]
  },
  {
   "cell_type": "code",
   "execution_count": 17,
   "metadata": {},
   "outputs": [
    {
     "name": "stdout",
     "output_type": "stream",
     "text": [
      "I am John Smith and I am 33 years old.\n",
      "I work in Berkley for 12 years.\n",
      "The number of teachers is 1,\n",
      "The number of students is 1,\n",
      "Number of degrees in 1 is.\n",
      "A new school level High has been created.Number of levels is 1.\n"
     ]
    }
   ],
   "source": [
    "#create class instances and test\n",
    "teacher1 = Teacher('John','Smith','33','Berkley','12')\n",
    "teacher1.introduceItself()\n",
    "student1 = Student('Maila','Brown','17','Berkley','3')\n",
    "space1 = EducSpace('University','Berkley','Boston')\n",
    "space2 = EducSpace('School','Quantum','Yerevan')\n",
    "degreetype = DegreeType('Bachelor')\n",
    "space1+teacher1\n",
    "space1+student1\n",
    "degreetype.create('Cambridge','Cambridge')\n",
    "space1.create('High','school')\n",
    "\n",
    "\n"
   ]
  }
 ],
 "metadata": {
  "kernelspec": {
   "display_name": "Python 3",
   "language": "python",
   "name": "python3"
  },
  "language_info": {
   "codemirror_mode": {
    "name": "ipython",
    "version": 3
   },
   "file_extension": ".py",
   "mimetype": "text/x-python",
   "name": "python",
   "nbconvert_exporter": "python",
   "pygments_lexer": "ipython3",
   "version": "3.6.9"
  }
 },
 "nbformat": 4,
 "nbformat_minor": 2
}
